{
 "cells": [
  {
   "cell_type": "markdown",
   "id": "54236145-2421-4d3c-8808-22bff7966853",
   "metadata": {},
   "source": [
    "## Installation\n",
    "\n",
    "\n",
    "Global python env\n",
    "\n",
    "\n",
    "First, to install PSG in python, we need to navigate to Aorda install directory and install wheel file directly. Additionally, we may want to install Gurobi as well (particularly for mixed integer programming). This requires obtaining a key from Gurobi, then simply doing a `pip install gurobipy`. If you don't set the key for Gurobi, we won't get a clear warning when we run PSG with Gurobi partially installed, it simply won't give correct results. \n"
   ]
  },
  {
   "cell_type": "code",
   "execution_count": 2,
   "id": "0804a581-c2c7-44dd-b3c5-1b44b5db5c4c",
   "metadata": {},
   "outputs": [
    {
     "name": "stdout",
     "output_type": "stream",
     "text": [
      "Processing c:\\aorda\\psg\\python\\psgpython-3.2-cp38-cp38-win_amd64.whl\n",
      "psgpython is already installed with the same version as the provided wheel. Use --force-reinstall to force an installation of the wheel.\n",
      "Note: you may need to restart the kernel to use updated packages.\n"
     ]
    }
   ],
   "source": [
    "%pip install C:\\Aorda\\PSG\\Python\\psgpython-3.2-cp38-cp38-win_amd64.whl"
   ]
  },
  {
   "cell_type": "code",
   "execution_count": 1,
   "id": "ddf97807",
   "metadata": {},
   "outputs": [
    {
     "data": {
      "text/plain": [
       "<AddedDllDirectory('C:\\\\Aorda\\\\PSG\\\\lib')>"
      ]
     },
     "execution_count": 1,
     "metadata": {},
     "output_type": "execute_result"
    }
   ],
   "source": [
    "import os\n",
    "os.add_dll_directory('C:\\Aorda\\PSG\\lib')"
   ]
  },
  {
   "cell_type": "code",
   "execution_count": 3,
   "id": "78ce1f1e-b4fc-4e70-b8ae-0e66e4b97adf",
   "metadata": {},
   "outputs": [],
   "source": [
    "import psgpython as psg # import should work now, sometimes need to register dll once as on line below:\n"
   ]
  },
  {
   "cell_type": "markdown",
   "id": "36d15d28-e243-41fe-8d32-7aa972cbc5f7",
   "metadata": {},
   "source": [
    "In this same folder should be a few example scripts that call psg in python. "
   ]
  },
  {
   "cell_type": "markdown",
   "id": "55669d47-2465-400e-b909-27c584e988de",
   "metadata": {},
   "source": [
    "## Loading an example\n",
    "The easiest way to start working with PSG is to download a case study with a pre-formatted problem statement along with data from Prof. Uryasev's [website](http://uryasev.ams.stonybrook.edu/index.php/research/testproblems/). "
   ]
  },
  {
   "cell_type": "markdown",
   "id": "50119879-622e-4edf-9008-720fddc34dcc",
   "metadata": {},
   "source": [
    "Here an example where we download and unzip case study. Note that the data files in text format need to be in the same directory as the problem statement:"
   ]
  },
  {
   "cell_type": "code",
   "execution_count": 4,
   "id": "4feb5e31-c3ab-4584-a9da-adafad8c2137",
   "metadata": {},
   "outputs": [],
   "source": [
    "import requests\n",
    "import zipfile\n",
    "import io"
   ]
  },
  {
   "cell_type": "code",
   "execution_count": 5,
   "id": "61531e43-ce51-40f0-b06d-6d5ebd10e1e2",
   "metadata": {},
   "outputs": [],
   "source": [
    "prob = requests.get('http://uryasev.ams.stonybrook.edu/wp-content/uploads/2019/05/problem_hmm_discrete.zip')\n",
    "uz = zipfile.ZipFile(io.BytesIO(prob.content))\n",
    "uz.extractall(\"./psg_example_hmm/\")"
   ]
  },
  {
   "cell_type": "code",
   "execution_count": 6,
   "id": "cae08a29-e939-490c-8757-f5515c96cfe8",
   "metadata": {
    "scrolled": true,
    "tags": []
   },
   "outputs": [
    {
     "name": "stdout",
     "output_type": "stream",
     "text": [
      "OK. Problem Imported\n",
      "\n"
     ]
    }
   ],
   "source": [
    "psg_prob = psg.psg_importfromtext('./psg_example_hmm/problem_hmm_discrete.txt')"
   ]
  },
  {
   "cell_type": "markdown",
   "id": "7ecb8499-3e42-4975-8ae7-cbda41e793ff",
   "metadata": {},
   "source": [
    "Here is an important detail. When importing a problem statement, PSG will by default split it into a list of strings. For PSG to work correctly, we need to join this list with newline characters between each statement."
   ]
  },
  {
   "cell_type": "code",
   "execution_count": 7,
   "id": "cb5b7555-da56-445c-88de-c3e1fefe9e8d",
   "metadata": {},
   "outputs": [],
   "source": [
    "psg_prob['problem_statement'] = '\\n'.join(psg_prob['problem_statement'])"
   ]
  },
  {
   "cell_type": "code",
   "execution_count": 8,
   "id": "fe816ef1-6099-4b7b-aaa4-e7a42d7fd470",
   "metadata": {},
   "outputs": [
    {
     "name": "stdout",
     "output_type": "stream",
     "text": [
      "Running solver\n",
      "Reading problem formulation\n",
      "Warning: 1 Object: Problem analizing\tMessage: Problem Statement: objective may be non-convex\n",
      "Asking for data information\n",
      "Getting data\n",
      "100% of vector_observation_300 was read\n",
      "The problem is verified.\n",
      "Solver finished verification.\n",
      "It's OK."
     ]
    },
    {
     "data": {
      "text/plain": [
       "'Verified!'"
      ]
     },
     "execution_count": 8,
     "metadata": {},
     "output_type": "execute_result"
    }
   ],
   "source": [
    "psg.psg_verify(psg_prob) # check problem - mostly useful when testing as the actual solver will cause a kernel crash if problem is not formatted correctly"
   ]
  },
  {
   "cell_type": "code",
   "execution_count": 17,
   "id": "02596b7e-bfd0-4e14-926b-77c1cb50d86f",
   "metadata": {
    "scrolled": true,
    "tags": []
   },
   "outputs": [
    {
     "name": "stdout",
     "output_type": "stream",
     "text": [
      "Running solver\n",
      "Reading problem formulation\n",
      "Asking for data information\n",
      "Getting data\n",
      "100% of matrix_sum_of_x_5 was read\n",
      "100% of matrix_10000_1 was read\n",
      "100% of matrix_10000_2 was read\n",
      "100% of matrix_10000_3 was read\n",
      "100% of matrix_10000_4 was read\n",
      "100% of matrix_10000_5 was read\n",
      "Start optimization\n",
      "Ext.iteration=0  Objective=0.000000000000E+00  Residual=0.211547412342E+01\n",
      "Ext.iteration=66  Objective=0.925128338193E+00  Residual=0.131829585682E-13\n",
      "Start stage  1\n",
      "Ext.iteration=0  Objective=0.925128338193E+00  Residual=-.111793664072E-01\n",
      "Ext.iteration=44  Objective=0.919200709398E+00  Residual=0.598771736926E-06\n",
      "Start stage  2\n",
      "Ext.iteration=0  Objective=0.919200709398E+00  Residual=-.514913516569E-03\n",
      "Ext.iteration=8  Objective=0.919200709398E+00  Residual=-.514913516569E-03\n",
      "Start stage  3\n",
      "Ext.iteration=0  Objective=0.919200709398E+00  Residual=-.385433335677E-03\n",
      "Ext.iteration=8  Objective=0.919200709398E+00  Residual=-.385433335677E-03\n",
      "Start stage  4\n",
      "Ext.iteration=0  Objective=0.919200709398E+00  Residual=-.411651593449E-03\n",
      "Ext.iteration=9  Objective=0.919200709398E+00  Residual=-.411651593449E-03\n",
      "Start stage  5\n",
      "Ext.iteration=0  Objective=0.919200709398E+00  Residual=-.713722082309E-03\n",
      "Ext.iteration=13  Objective=0.919200709398E+00  Residual=-.713722082309E-03\n",
      "Start stage  6\n",
      "Ext.iteration=0  Objective=0.919200709398E+00  Residual=-.296200481675E-03\n",
      "Ext.iteration=24  Objective=0.919200709398E+00  Residual=-.296200481675E-03\n",
      "Start stage  7\n",
      "Ext.iteration=0  Objective=0.919200709398E+00  Residual=0.149083579872E-03\n",
      "Ext.iteration=53  Objective=0.919016793202E+00  Residual=0.366082822303E-15\n",
      "Start stage  8\n",
      "Ext.iteration=0  Objective=0.919016793202E+00  Residual=-.621276140328E-03\n",
      "Ext.iteration=12  Objective=0.919016793202E+00  Residual=-.621276140328E-03\n",
      "Start stage  9\n",
      "Ext.iteration=0  Objective=0.919016793202E+00  Residual=0.789886710053E-02\n",
      "Ext.iteration=10  Objective=0.918316820975E+00  Residual=-.583867089732E-16\n",
      "Optimization is stopped\n",
      "Solution is optimal\n",
      "Calculating resulting outputs. Writing solution.\n",
      "Objective: objective = 0.918316820975 [2.266664024378E-03]\n",
      "Solver has normally finished. Solution was saved.\n",
      "Problem: problem_1, solution_status = optimal\n",
      "Timing: data_loading_time = 0.25, preprocessing_time = 0.01, solving_time = 0.17\n",
      "Variables: optimal_point = point_problem_1\n",
      "Objective: objective = 0.918316820975 [2.266664024378E-03]\n",
      "Constraint: constraint_1 =  2.809999805748E-02 [ 2.810001055748E-02]\n",
      "Function: linear(matrix_sum_of_x_5) =  9.183168209747E-01\n",
      "Function: prmulti_pen(0,matrix_10000_1,matrix_10000_2,matrix_10000_3,matrix_10000_4,matrix_10000_5) =  2.809999805748E-02\n",
      "OK. Solver Finished\n",
      "\n"
     ]
    },
    {
     "data": {
      "text/plain": [
       "{'problem_name': 'problem_1',\n",
       " 'solution_status': 'optimal',\n",
       " 'problem_statement': ['minimize',\n",
       "  '  linear(matrix_sum_of_x_5)',\n",
       "  'Constraint: <= 0.0281',\n",
       "  '  prmulti_pen(0,matrix_10000_1,matrix_10000_2,matrix_10000_3,matrix_10000_4,matrix_10000_5)',\n",
       "  'Box: >= 0, <= 1'],\n",
       " 'output': ['Problem: problem_1, solution_status = optimal',\n",
       "  'Timing: data_loading_time = 0.25, preprocessing_time = 0.01, solving_time = 0.17',\n",
       "  'Variables: optimal_point = point_problem_1',\n",
       "  'Objective: objective = 0.918316820975 [2.266664024378E-03]',\n",
       "  'Constraint: constraint_1 =  2.809999805748E-02 [ 2.810001055748E-02]',\n",
       "  'Function: linear(matrix_sum_of_x_5) =  9.183168209747E-01',\n",
       "  'Function: prmulti_pen(0,matrix_10000_1,matrix_10000_2,matrix_10000_3,matrix_10000_4,matrix_10000_5) =  2.809999805748E-02'],\n",
       " 'point_constraints_problem_1': [['constraint_1'], array([0.0281])],\n",
       " 'point_slack_constraints_problem_1': [['constraint_1'], array([0.02810001])],\n",
       " 'point_problem_1': [['attachment_point_1',\n",
       "   'attachment_point_2',\n",
       "   'attachment_point_3',\n",
       "   'attachment_point_4',\n",
       "   'attachment_point_5'],\n",
       "  array([0.14800516, 0.1840412 , 0.22136423, 0.2598134 , 0.29424068])],\n",
       " 'log': ['Reading problem formulation',\n",
       "  'Asking for data information',\n",
       "  'Getting data',\n",
       "  '100% of matrix_sum_of_x_5 was read',\n",
       "  '100% of matrix_10000_1 was read',\n",
       "  '100% of matrix_10000_2 was read',\n",
       "  '100% of matrix_10000_3 was read',\n",
       "  '100% of matrix_10000_4 was read',\n",
       "  '100% of matrix_10000_5 was read',\n",
       "  'Start optimization',\n",
       "  'Ext.iteration=0  Objective=0.000000000000E+00  Residual=0.211547412342E+01',\n",
       "  'Ext.iteration=66  Objective=0.925128338193E+00  Residual=0.131829585682E-13',\n",
       "  'Start stage  1',\n",
       "  'Ext.iteration=0  Objective=0.925128338193E+00  Residual=-.111793664072E-01',\n",
       "  'Ext.iteration=44  Objective=0.919200709398E+00  Residual=0.598771736926E-06',\n",
       "  'Start stage  2',\n",
       "  'Ext.iteration=0  Objective=0.919200709398E+00  Residual=-.514913516569E-03',\n",
       "  'Ext.iteration=8  Objective=0.919200709398E+00  Residual=-.514913516569E-03',\n",
       "  'Start stage  3',\n",
       "  'Ext.iteration=0  Objective=0.919200709398E+00  Residual=-.385433335677E-03',\n",
       "  'Ext.iteration=8  Objective=0.919200709398E+00  Residual=-.385433335677E-03',\n",
       "  'Start stage  4',\n",
       "  'Ext.iteration=0  Objective=0.919200709398E+00  Residual=-.411651593449E-03',\n",
       "  'Ext.iteration=9  Objective=0.919200709398E+00  Residual=-.411651593449E-03',\n",
       "  'Start stage  5',\n",
       "  'Ext.iteration=0  Objective=0.919200709398E+00  Residual=-.713722082309E-03',\n",
       "  'Ext.iteration=13  Objective=0.919200709398E+00  Residual=-.713722082309E-03',\n",
       "  'Start stage  6',\n",
       "  'Ext.iteration=0  Objective=0.919200709398E+00  Residual=-.296200481675E-03',\n",
       "  'Ext.iteration=24  Objective=0.919200709398E+00  Residual=-.296200481675E-03',\n",
       "  'Start stage  7',\n",
       "  'Ext.iteration=0  Objective=0.919200709398E+00  Residual=0.149083579872E-03',\n",
       "  'Ext.iteration=53  Objective=0.919016793202E+00  Residual=0.366082822303E-15',\n",
       "  'Start stage  8',\n",
       "  'Ext.iteration=0  Objective=0.919016793202E+00  Residual=-.621276140328E-03',\n",
       "  'Ext.iteration=12  Objective=0.919016793202E+00  Residual=-.621276140328E-03',\n",
       "  'Start stage  9',\n",
       "  'Ext.iteration=0  Objective=0.919016793202E+00  Residual=0.789886710053E-02',\n",
       "  'Ext.iteration=10  Objective=0.918316820975E+00  Residual=-.583867089732E-16',\n",
       "  'Optimization is stopped',\n",
       "  'Solution is optimal',\n",
       "  'Calculating resulting outputs. Writing solution.',\n",
       "  'Objective: objective = 0.918316820975 [2.266664024378E-03]',\n",
       "  'Solver has normally finished. Solution was saved.']}"
      ]
     },
     "execution_count": 17,
     "metadata": {},
     "output_type": "execute_result"
    }
   ],
   "source": [
    "psg.psg_solver(psg_prob)"
   ]
  },
  {
   "cell_type": "markdown",
   "id": "3675ae9f-4358-46cf-9e4c-a139eeb032bd",
   "metadata": {},
   "source": [
    "## Defining a problem explicitly\n",
    "This is one of the example scripts from the /Aorda/PSG/Python/Examples directory"
   ]
  },
  {
   "cell_type": "code",
   "execution_count": 18,
   "id": "40d672cd-8daf-499b-996b-b76030e96e5d",
   "metadata": {},
   "outputs": [],
   "source": [
    "import numpy as np"
   ]
  },
  {
   "cell_type": "code",
   "execution_count": 20,
   "id": "73acdf71-19ee-4cc0-bb5e-7e7352a73f32",
   "metadata": {},
   "outputs": [
    {
     "name": "stdout",
     "output_type": "stream",
     "text": [
      "Running solver\n",
      "Reading problem formulation\n",
      "Asking for data information\n",
      "Getting data\n",
      "     20.0% of scenarios is processed\n",
      "100% of matrix_scenarios was read\n",
      "100% of matrix_budget was read\n",
      "Start optimization\n",
      "Ext.iteration=0  Objective=0.600000000000E+00  Residual=0.000000000000E+00\n",
      "Ext.iteration=5  Objective=-.435000000000E+01  Residual=0.000000000000E+00\n",
      "Optimization is stopped\n",
      "Solution is optimal\n",
      "Calculating resulting outputs. Writing solution.\n",
      "Objective: objective = -4.35000000000 [-8.881784197001E-16]\n",
      "Solver has normally finished. Solution was saved.\n",
      "Problem: problem_1, solution_status = optimal\n",
      "Timing: data_loading_time = 0.09, preprocessing_time = 0.01, solving_time = 0.01\n",
      "Variables: optimal_point = point_problem_1\n",
      "Objective: objective = -4.35000000000 [-8.881784197001E-16]\n",
      "Constraint: constraint_1 =  4.500000000000E+00 [ 8.881784197001E-16]\n",
      "Constraint: constraint_2 =  1.000000000000E+00 [ 0.000000000000E+00]\n",
      "Function: cvar_risk(0.95,matrix_scenarios) = -4.350000000000E+00\n",
      "Function: avg_g(matrix_scenarios) =  4.500000000000E+00\n",
      "Function: linear(matrix_budget) =  1.000000000000E+00\n",
      "OK. Solver Finished\n",
      "\n",
      "{'problem_name': 'problem_1', 'solution_status': 'optimal', 'problem_statement': ['minimize', 'cvar_risk(0.950000,matrix_scenarios)', 'Constraint: >= 4.5', 'avg_g(matrix_scenarios)', 'Constraint: == 1', 'linear(matrix_budget)', 'Box: >= point_lowerbounds', 'Solver: van'], 'output': ['Problem: problem_1, solution_status = optimal', 'Timing: data_loading_time = 0.09, preprocessing_time = 0.01, solving_time = 0.01', 'Variables: optimal_point = point_problem_1', 'Objective: objective = -4.35000000000 [-8.881784197001E-16]', 'Constraint: constraint_1 =  4.500000000000E+00 [ 8.881784197001E-16]', 'Constraint: constraint_2 =  1.000000000000E+00 [ 0.000000000000E+00]', 'Function: cvar_risk(0.95,matrix_scenarios) = -4.350000000000E+00', 'Function: avg_g(matrix_scenarios) =  4.500000000000E+00', 'Function: linear(matrix_budget) =  1.000000000000E+00'], 'point_constraints_problem_1': [['constraint_1', 'constraint_2'], array([4.5, 1. ])], 'point_slack_constraints_problem_1': [['constraint_1', 'constraint_2'], array([8.8817842e-16, 0.0000000e+00])], 'point_dual_constraints_problem_1': [['constraint_1', 'constraint_2'], array([  3.7037037 , -22.11111111])], 'point_problem_1': [['x1', 'x2', 'x3', 'x4'], array([0.  , 0.6 , 0.19, 0.21])], 'log': ['Reading problem formulation', 'Asking for data information', 'Getting data', '     20.0% of scenarios is processed', '100% of matrix_scenarios was read', '100% of matrix_budget was read', 'Start optimization', 'Ext.iteration=0  Objective=0.600000000000E+00  Residual=0.000000000000E+00', 'Ext.iteration=5  Objective=-.435000000000E+01  Residual=0.000000000000E+00', 'Optimization is stopped', 'Solution is optimal', 'Calculating resulting outputs. Writing solution.', 'Objective: objective = -4.35000000000 [-8.881784197001E-16]', 'Solver has normally finished. Solution was saved.']}\n"
     ]
    }
   ],
   "source": [
    "\n",
    "matrix_scenarios_body = np.reshape(np.array([1,4,8,3, 7,5,4,6, 2,8,1,0, 0,3,4,9],dtype='float64'),(4,4))\n",
    "scenario_benchmark = np.array([0.2, 0.11, 0.6, 0.1])\n",
    "matrix_scenarios_body = np.column_stack((matrix_scenarios_body, scenario_benchmark))\n",
    "header = [\"x%d\" % (i) for i in range(1,matrix_scenarios_body.shape[1])]\n",
    "matrix_scenarios = [header+['scenario_benchmark'], matrix_scenarios_body]\n",
    "matrix_budget_body =np.array([1, 1, 1, 1],dtype='float64')\n",
    "matrix_budget = [header, matrix_budget_body]\n",
    "point_lowerbounds = [header, np.array([0, 0, 0, 0],dtype='float64')]\n",
    "\n",
    "alpha = 0.95\n",
    "allowExternal = True\n",
    "suppressMessages = False\n",
    "problem_name = \"problem_test\"\n",
    "problem_statement = \"minimize\\n\\\n",
    "cvar_risk(%f,matrix_scenarios)\\n\\\n",
    "Constraint: >= 4.5\\n\\\n",
    "avg_g(matrix_scenarios)\\n\\\n",
    "Constraint: == 1\\n\\\n",
    "linear(matrix_budget)\\n\\\n",
    "Box: >= point_lowerbounds\\n\\\n",
    "Solver: van\" % alpha\n",
    "problem_dictionary = {'problem_name':problem_name, 'problem_statement':problem_statement, 'matrix_scenarios':matrix_scenarios,\\\n",
    "'matrix_budget':matrix_budget, 'point_lowerbounds':point_lowerbounds}\n",
    "\n",
    "res = psg.psg_solver(problem_dictionary, allowExternal, suppressMessages)\n",
    "\n",
    "print(res)\n"
   ]
  },
  {
   "cell_type": "code",
   "execution_count": 22,
   "id": "1f0f1b19-2794-43f1-90cf-9b86ca27bb63",
   "metadata": {},
   "outputs": [
    {
     "data": {
      "text/plain": [
       "[['x1', 'x2', 'x3', 'x4'], array([0.  , 0.6 , 0.19, 0.21])]"
      ]
     },
     "execution_count": 22,
     "metadata": {},
     "output_type": "execute_result"
    }
   ],
   "source": [
    "# The solution is contained under the key 'point_problem_1'\n",
    "res['point_problem_1']"
   ]
  },
  {
   "cell_type": "markdown",
   "id": "2ca4ea34-4011-4ee9-b4fa-9a3ab45bb56d",
   "metadata": {},
   "source": [
    "When loading or using your own data matrix as a psg matrix object, it should *always* be formatted as a c-style array (row major). If you pass in a matrix in column major order, sometimes PSG will simply crash, other times it will quietly output as incorrect solution.\n",
    "You can use `np.asarray(..., order='C')` to convert your data and `.flags['C_"
   ]
  },
  {
   "cell_type": "code",
   "execution_count": 24,
   "id": "a8987eca-afe7-4b7a-8de0-616cd41fc03f",
   "metadata": {},
   "outputs": [],
   "source": [
    "a = np.array([1.0,2.0])"
   ]
  },
  {
   "cell_type": "code",
   "execution_count": 27,
   "id": "90005a7f-7d62-446f-aac2-d705c5dd9a13",
   "metadata": {},
   "outputs": [
    {
     "data": {
      "text/plain": [
       "True"
      ]
     },
     "execution_count": 27,
     "metadata": {},
     "output_type": "execute_result"
    }
   ],
   "source": [
    "a.flags['C_CONTIGUOUS']"
   ]
  },
  {
   "cell_type": "code",
   "execution_count": null,
   "id": "1a2e0a5d-9e2f-4698-9ba0-a49ad8623da7",
   "metadata": {},
   "outputs": [],
   "source": []
  }
 ],
 "metadata": {
  "kernelspec": {
   "display_name": "Python 3.8.0 ('hmm')",
   "language": "python",
   "name": "python3"
  },
  "language_info": {
   "codemirror_mode": {
    "name": "ipython",
    "version": 3
   },
   "file_extension": ".py",
   "mimetype": "text/x-python",
   "name": "python",
   "nbconvert_exporter": "python",
   "pygments_lexer": "ipython3",
   "version": "3.8.0"
  },
  "vscode": {
   "interpreter": {
    "hash": "80cc58d642badbeb27aa4dea55477ea0db095f88739fbd6a40ddef87b59ea8ce"
   }
  }
 },
 "nbformat": 4,
 "nbformat_minor": 5
}

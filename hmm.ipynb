{
 "cells": [
  {
   "cell_type": "markdown",
   "metadata": {},
   "source": [
    "### Maximization of the Log-Likelihood of Hidden Markov Models on the Limit Order Book"
   ]
  },
  {
   "cell_type": "code",
   "execution_count": 9,
   "metadata": {},
   "outputs": [],
   "source": [
    "import pandas as pd\n",
    "import numpy as np\n",
    "import hmmlearn as hmlearn\n",
    "from sklearn.model_selection import TimeSeriesSplit"
   ]
  },
  {
   "cell_type": "code",
   "execution_count": 10,
   "metadata": {},
   "outputs": [],
   "source": [
    "from hmmlearn.hmm import GaussianHMM"
   ]
  },
  {
   "cell_type": "code",
   "execution_count": 11,
   "metadata": {},
   "outputs": [
    {
     "data": {
      "text/html": [
       "<div>\n",
       "<style scoped>\n",
       "    .dataframe tbody tr th:only-of-type {\n",
       "        vertical-align: middle;\n",
       "    }\n",
       "\n",
       "    .dataframe tbody tr th {\n",
       "        vertical-align: top;\n",
       "    }\n",
       "\n",
       "    .dataframe thead th {\n",
       "        text-align: right;\n",
       "    }\n",
       "</style>\n",
       "<table border=\"1\" class=\"dataframe\">\n",
       "  <thead>\n",
       "    <tr style=\"text-align: right;\">\n",
       "      <th></th>\n",
       "      <th>spread</th>\n",
       "      <th>OB_IB</th>\n",
       "    </tr>\n",
       "  </thead>\n",
       "  <tbody>\n",
       "    <tr>\n",
       "      <th>2020-01-02 09:30:00.134062</th>\n",
       "      <td>0.20</td>\n",
       "      <td>1.0</td>\n",
       "    </tr>\n",
       "    <tr>\n",
       "      <th>2020-01-02 09:30:00.134336</th>\n",
       "      <td>0.18</td>\n",
       "      <td>1.0</td>\n",
       "    </tr>\n",
       "    <tr>\n",
       "      <th>2020-01-02 09:30:00.134532</th>\n",
       "      <td>0.26</td>\n",
       "      <td>2.0</td>\n",
       "    </tr>\n",
       "    <tr>\n",
       "      <th>2020-01-02 09:30:00.136081</th>\n",
       "      <td>0.19</td>\n",
       "      <td>1.0</td>\n",
       "    </tr>\n",
       "    <tr>\n",
       "      <th>2020-01-02 09:30:00.234474</th>\n",
       "      <td>0.28</td>\n",
       "      <td>1.0</td>\n",
       "    </tr>\n",
       "    <tr>\n",
       "      <th>...</th>\n",
       "      <td>...</td>\n",
       "      <td>...</td>\n",
       "    </tr>\n",
       "    <tr>\n",
       "      <th>2020-01-02 09:30:28.784959</th>\n",
       "      <td>0.10</td>\n",
       "      <td>2.0</td>\n",
       "    </tr>\n",
       "    <tr>\n",
       "      <th>2020-01-02 09:30:28.819508</th>\n",
       "      <td>0.14</td>\n",
       "      <td>2.0</td>\n",
       "    </tr>\n",
       "    <tr>\n",
       "      <th>2020-01-02 09:30:28.832168</th>\n",
       "      <td>1.52</td>\n",
       "      <td>1.0</td>\n",
       "    </tr>\n",
       "    <tr>\n",
       "      <th>2020-01-02 09:30:29.169166</th>\n",
       "      <td>0.10</td>\n",
       "      <td>1.0</td>\n",
       "    </tr>\n",
       "    <tr>\n",
       "      <th>2020-01-02 09:30:29.169254</th>\n",
       "      <td>0.13</td>\n",
       "      <td>1.0</td>\n",
       "    </tr>\n",
       "  </tbody>\n",
       "</table>\n",
       "<p>1000 rows × 2 columns</p>\n",
       "</div>"
      ],
      "text/plain": [
       "                            spread  OB_IB\n",
       "2020-01-02 09:30:00.134062    0.20    1.0\n",
       "2020-01-02 09:30:00.134336    0.18    1.0\n",
       "2020-01-02 09:30:00.134532    0.26    2.0\n",
       "2020-01-02 09:30:00.136081    0.19    1.0\n",
       "2020-01-02 09:30:00.234474    0.28    1.0\n",
       "...                            ...    ...\n",
       "2020-01-02 09:30:28.784959    0.10    2.0\n",
       "2020-01-02 09:30:28.819508    0.14    2.0\n",
       "2020-01-02 09:30:28.832168    1.52    1.0\n",
       "2020-01-02 09:30:29.169166    0.10    1.0\n",
       "2020-01-02 09:30:29.169254    0.13    1.0\n",
       "\n",
       "[1000 rows x 2 columns]"
      ]
     },
     "execution_count": 11,
     "metadata": {},
     "output_type": "execute_result"
    }
   ],
   "source": [
    "features=pd.read_csv('data/features.csv',index_col=0,nrows=1000)\n",
    "features"
   ]
  },
  {
   "cell_type": "code",
   "execution_count": 12,
   "metadata": {},
   "outputs": [
    {
     "data": {
      "text/html": [
       "<div>\n",
       "<style scoped>\n",
       "    .dataframe tbody tr th:only-of-type {\n",
       "        vertical-align: middle;\n",
       "    }\n",
       "\n",
       "    .dataframe tbody tr th {\n",
       "        vertical-align: top;\n",
       "    }\n",
       "\n",
       "    .dataframe thead th {\n",
       "        text-align: right;\n",
       "    }\n",
       "</style>\n",
       "<table border=\"1\" class=\"dataframe\">\n",
       "  <thead>\n",
       "    <tr style=\"text-align: right;\">\n",
       "      <th></th>\n",
       "      <th>spread_state</th>\n",
       "      <th>book_state</th>\n",
       "    </tr>\n",
       "  </thead>\n",
       "  <tbody>\n",
       "    <tr>\n",
       "      <th>2020-01-02 09:30:00.134062</th>\n",
       "      <td>0</td>\n",
       "      <td>0</td>\n",
       "    </tr>\n",
       "    <tr>\n",
       "      <th>2020-01-02 09:30:00.134336</th>\n",
       "      <td>-1</td>\n",
       "      <td>1</td>\n",
       "    </tr>\n",
       "    <tr>\n",
       "      <th>2020-01-02 09:30:00.134532</th>\n",
       "      <td>1</td>\n",
       "      <td>2</td>\n",
       "    </tr>\n",
       "    <tr>\n",
       "      <th>2020-01-02 09:30:00.136081</th>\n",
       "      <td>-1</td>\n",
       "      <td>-2</td>\n",
       "    </tr>\n",
       "    <tr>\n",
       "      <th>2020-01-02 09:30:00.234474</th>\n",
       "      <td>1</td>\n",
       "      <td>1</td>\n",
       "    </tr>\n",
       "    <tr>\n",
       "      <th>...</th>\n",
       "      <td>...</td>\n",
       "      <td>...</td>\n",
       "    </tr>\n",
       "    <tr>\n",
       "      <th>2020-01-02 09:30:28.784959</th>\n",
       "      <td>0</td>\n",
       "      <td>0</td>\n",
       "    </tr>\n",
       "    <tr>\n",
       "      <th>2020-01-02 09:30:28.819508</th>\n",
       "      <td>1</td>\n",
       "      <td>1</td>\n",
       "    </tr>\n",
       "    <tr>\n",
       "      <th>2020-01-02 09:30:28.832168</th>\n",
       "      <td>1</td>\n",
       "      <td>-1</td>\n",
       "    </tr>\n",
       "    <tr>\n",
       "      <th>2020-01-02 09:30:29.169166</th>\n",
       "      <td>-1</td>\n",
       "      <td>2</td>\n",
       "    </tr>\n",
       "    <tr>\n",
       "      <th>2020-01-02 09:30:29.169254</th>\n",
       "      <td>1</td>\n",
       "      <td>-1</td>\n",
       "    </tr>\n",
       "  </tbody>\n",
       "</table>\n",
       "<p>1000 rows × 2 columns</p>\n",
       "</div>"
      ],
      "text/plain": [
       "                            spread_state  book_state\n",
       "2020-01-02 09:30:00.134062             0           0\n",
       "2020-01-02 09:30:00.134336            -1           1\n",
       "2020-01-02 09:30:00.134532             1           2\n",
       "2020-01-02 09:30:00.136081            -1          -2\n",
       "2020-01-02 09:30:00.234474             1           1\n",
       "...                                  ...         ...\n",
       "2020-01-02 09:30:28.784959             0           0\n",
       "2020-01-02 09:30:28.819508             1           1\n",
       "2020-01-02 09:30:28.832168             1          -1\n",
       "2020-01-02 09:30:29.169166            -1           2\n",
       "2020-01-02 09:30:29.169254             1          -1\n",
       "\n",
       "[1000 rows x 2 columns]"
      ]
     },
     "execution_count": 12,
     "metadata": {},
     "output_type": "execute_result"
    }
   ],
   "source": [
    "outcomes=pd.read_csv('data/outcomes.csv',index_col=0,nrows=1000)\n",
    "outcomes"
   ]
  },
  {
   "cell_type": "markdown",
   "metadata": {},
   "source": [
    "### Time Series Split"
   ]
  },
  {
   "cell_type": "code",
   "execution_count": 19,
   "metadata": {},
   "outputs": [
    {
     "name": "stdout",
     "output_type": "stream",
     "text": [
      "TRAIN: [  0   1   2   3   4   5   6   7   8   9  10  11  12  13  14  15  16  17\n",
      "  18  19  20  21  22  23  24  25  26  27  28  29  30  31  32  33  34  35\n",
      "  36  37  38  39  40  41  42  43  44  45  46  47  48  49  50  51  52  53\n",
      "  54  55  56  57  58  59  60  61  62  63  64  65  66  67  68  69  70  71\n",
      "  72  73  74  75  76  77  78  79  80  81  82  83  84  85  86  87  88  89\n",
      "  90  91  92  93  94  95  96  97  98  99 100 101 102 103 104 105 106 107\n",
      " 108 109 110 111 112 113 114 115 116 117 118 119 120 121 122 123 124 125\n",
      " 126 127 128 129 130 131 132 133 134 135 136 137 138 139 140 141 142 143\n",
      " 144 145 146 147 148 149 150 151 152 153 154 155 156 157 158 159 160 161\n",
      " 162 163 164 165 166 167 168 169 170 171 172 173 174 175 176 177 178 179\n",
      " 180 181 182 183 184 185 186 187 188 189 190 191 192 193 194 195 196 197\n",
      " 198 199 200 201 202 203 204 205 206 207 208 209 210 211 212 213 214 215\n",
      " 216 217 218 219 220 221 222 223 224 225 226 227 228 229 230 231 232 233\n",
      " 234 235 236 237 238 239 240 241 242 243 244 245 246 247 248 249 250 251\n",
      " 252 253 254 255 256 257 258 259 260 261 262 263 264 265 266 267 268 269\n",
      " 270 271 272 273 274 275 276 277 278 279 280 281 282 283 284 285 286 287\n",
      " 288 289 290 291 292 293 294 295 296 297 298 299 300 301 302 303 304 305\n",
      " 306 307 308 309 310 311 312 313 314 315 316 317 318 319 320 321 322 323\n",
      " 324 325 326 327 328 329 330 331 332 333] TEST: [334 335 336 337 338 339 340 341 342 343 344 345 346 347 348 349 350 351\n",
      " 352 353 354 355 356 357 358 359 360 361 362 363 364 365 366 367 368 369\n",
      " 370 371 372 373 374 375 376 377 378 379 380 381 382 383 384 385 386 387\n",
      " 388 389 390 391 392 393 394 395 396 397 398 399 400 401 402 403 404 405\n",
      " 406 407 408 409 410 411 412 413 414 415 416 417 418 419 420 421 422 423\n",
      " 424 425 426 427 428 429 430 431 432 433 434 435 436 437 438 439 440 441\n",
      " 442 443 444 445 446 447 448 449 450 451 452 453 454 455 456 457 458 459\n",
      " 460 461 462 463 464 465 466 467 468 469 470 471 472 473 474 475 476 477\n",
      " 478 479 480 481 482 483 484 485 486 487 488 489 490 491 492 493 494 495\n",
      " 496 497 498 499 500 501 502 503 504 505 506 507 508 509 510 511 512 513\n",
      " 514 515 516 517 518 519 520 521 522 523 524 525 526 527 528 529 530 531\n",
      " 532 533 534 535 536 537 538 539 540 541 542 543 544 545 546 547 548 549\n",
      " 550 551 552 553 554 555 556 557 558 559 560 561 562 563 564 565 566 567\n",
      " 568 569 570 571 572 573 574 575 576 577 578 579 580 581 582 583 584 585\n",
      " 586 587 588 589 590 591 592 593 594 595 596 597 598 599 600 601 602 603\n",
      " 604 605 606 607 608 609 610 611 612 613 614 615 616 617 618 619 620 621\n",
      " 622 623 624 625 626 627 628 629 630 631 632 633 634 635 636 637 638 639\n",
      " 640 641 642 643 644 645 646 647 648 649 650 651 652 653 654 655 656 657\n",
      " 658 659 660 661 662 663 664 665 666]\n",
      "TRAIN: [  0   1   2   3   4   5   6   7   8   9  10  11  12  13  14  15  16  17\n",
      "  18  19  20  21  22  23  24  25  26  27  28  29  30  31  32  33  34  35\n",
      "  36  37  38  39  40  41  42  43  44  45  46  47  48  49  50  51  52  53\n",
      "  54  55  56  57  58  59  60  61  62  63  64  65  66  67  68  69  70  71\n",
      "  72  73  74  75  76  77  78  79  80  81  82  83  84  85  86  87  88  89\n",
      "  90  91  92  93  94  95  96  97  98  99 100 101 102 103 104 105 106 107\n",
      " 108 109 110 111 112 113 114 115 116 117 118 119 120 121 122 123 124 125\n",
      " 126 127 128 129 130 131 132 133 134 135 136 137 138 139 140 141 142 143\n",
      " 144 145 146 147 148 149 150 151 152 153 154 155 156 157 158 159 160 161\n",
      " 162 163 164 165 166 167 168 169 170 171 172 173 174 175 176 177 178 179\n",
      " 180 181 182 183 184 185 186 187 188 189 190 191 192 193 194 195 196 197\n",
      " 198 199 200 201 202 203 204 205 206 207 208 209 210 211 212 213 214 215\n",
      " 216 217 218 219 220 221 222 223 224 225 226 227 228 229 230 231 232 233\n",
      " 234 235 236 237 238 239 240 241 242 243 244 245 246 247 248 249 250 251\n",
      " 252 253 254 255 256 257 258 259 260 261 262 263 264 265 266 267 268 269\n",
      " 270 271 272 273 274 275 276 277 278 279 280 281 282 283 284 285 286 287\n",
      " 288 289 290 291 292 293 294 295 296 297 298 299 300 301 302 303 304 305\n",
      " 306 307 308 309 310 311 312 313 314 315 316 317 318 319 320 321 322 323\n",
      " 324 325 326 327 328 329 330 331 332 333 334 335 336 337 338 339 340 341\n",
      " 342 343 344 345 346 347 348 349 350 351 352 353 354 355 356 357 358 359\n",
      " 360 361 362 363 364 365 366 367 368 369 370 371 372 373 374 375 376 377\n",
      " 378 379 380 381 382 383 384 385 386 387 388 389 390 391 392 393 394 395\n",
      " 396 397 398 399 400 401 402 403 404 405 406 407 408 409 410 411 412 413\n",
      " 414 415 416 417 418 419 420 421 422 423 424 425 426 427 428 429 430 431\n",
      " 432 433 434 435 436 437 438 439 440 441 442 443 444 445 446 447 448 449\n",
      " 450 451 452 453 454 455 456 457 458 459 460 461 462 463 464 465 466 467\n",
      " 468 469 470 471 472 473 474 475 476 477 478 479 480 481 482 483 484 485\n",
      " 486 487 488 489 490 491 492 493 494 495 496 497 498 499 500 501 502 503\n",
      " 504 505 506 507 508 509 510 511 512 513 514 515 516 517 518 519 520 521\n",
      " 522 523 524 525 526 527 528 529 530 531 532 533 534 535 536 537 538 539\n",
      " 540 541 542 543 544 545 546 547 548 549 550 551 552 553 554 555 556 557\n",
      " 558 559 560 561 562 563 564 565 566 567 568 569 570 571 572 573 574 575\n",
      " 576 577 578 579 580 581 582 583 584 585 586 587 588 589 590 591 592 593\n",
      " 594 595 596 597 598 599 600 601 602 603 604 605 606 607 608 609 610 611\n",
      " 612 613 614 615 616 617 618 619 620 621 622 623 624 625 626 627 628 629\n",
      " 630 631 632 633 634 635 636 637 638 639 640 641 642 643 644 645 646 647\n",
      " 648 649 650 651 652 653 654 655 656 657 658 659 660 661 662 663 664 665\n",
      " 666] TEST: [667 668 669 670 671 672 673 674 675 676 677 678 679 680 681 682 683 684\n",
      " 685 686 687 688 689 690 691 692 693 694 695 696 697 698 699 700 701 702\n",
      " 703 704 705 706 707 708 709 710 711 712 713 714 715 716 717 718 719 720\n",
      " 721 722 723 724 725 726 727 728 729 730 731 732 733 734 735 736 737 738\n",
      " 739 740 741 742 743 744 745 746 747 748 749 750 751 752 753 754 755 756\n",
      " 757 758 759 760 761 762 763 764 765 766 767 768 769 770 771 772 773 774\n",
      " 775 776 777 778 779 780 781 782 783 784 785 786 787 788 789 790 791 792\n",
      " 793 794 795 796 797 798 799 800 801 802 803 804 805 806 807 808 809 810\n",
      " 811 812 813 814 815 816 817 818 819 820 821 822 823 824 825 826 827 828\n",
      " 829 830 831 832 833 834 835 836 837 838 839 840 841 842 843 844 845 846\n",
      " 847 848 849 850 851 852 853 854 855 856 857 858 859 860 861 862 863 864\n",
      " 865 866 867 868 869 870 871 872 873 874 875 876 877 878 879 880 881 882\n",
      " 883 884 885 886 887 888 889 890 891 892 893 894 895 896 897 898 899 900\n",
      " 901 902 903 904 905 906 907 908 909 910 911 912 913 914 915 916 917 918\n",
      " 919 920 921 922 923 924 925 926 927 928 929 930 931 932 933 934 935 936\n",
      " 937 938 939 940 941 942 943 944 945 946 947 948 949 950 951 952 953 954\n",
      " 955 956 957 958 959 960 961 962 963 964 965 966 967 968 969 970 971 972\n",
      " 973 974 975 976 977 978 979 980 981 982 983 984 985 986 987 988 989 990\n",
      " 991 992 993 994 995 996 997 998 999]\n"
     ]
    }
   ],
   "source": [
    "tscv = TimeSeriesSplit(n_splits=2)\n",
    "\n",
    "\n",
    "counter=0\n",
    "for train_index, test_index in tscv.split(features):\n",
    "    print(\"TRAIN:\", train_index, \"TEST:\", test_index)\n",
    "    X_train, X_test = features.iloc[train_index], features.iloc[test_index]\n",
    "    y_train, y_test = outcomes.iloc[train_index], outcomes.iloc[test_index]\n",
    "    "
   ]
  },
  {
   "cell_type": "code",
   "execution_count": null,
   "metadata": {},
   "outputs": [],
   "source": []
  },
  {
   "cell_type": "markdown",
   "metadata": {},
   "source": [
    "### PSG\n",
    "\n",
    "-Discrete Distributions or Normal Distributions of Observations"
   ]
  },
  {
   "cell_type": "code",
   "execution_count": 14,
   "metadata": {},
   "outputs": [],
   "source": [
    "import os\n",
    "os.add_dll_directory('C:\\Aorda\\PSG\\lib')\n",
    "import psgpython as psg "
   ]
  },
  {
   "cell_type": "markdown",
   "metadata": {},
   "source": [
    "### HMM Learn\n",
    "\n",
    "- Multinomial, Gaussian, Gaussian Mixture States\n",
    "- Thinking will do Gaussian and transform features to continuous values\n",
    "- Easier for optimziation and comparison between libraies "
   ]
  },
  {
   "cell_type": "code",
   "execution_count": 22,
   "metadata": {},
   "outputs": [
    {
     "name": "stderr",
     "output_type": "stream",
     "text": [
      "Even though the 'startprob_' attribute is set, it will be overwritten during initialization because 'init_params' contains 's'\n"
     ]
    },
    {
     "name": "stdout",
     "output_type": "stream",
     "text": [
      "[ 0 -1  1 -1  1  1  0  1 -1 -1  0  1  1 -1 -1  1  1  1 -1  1 -1  1  0  0\n",
      "  1 -1  0  0  1 -1 -1  1  1 -1 -1  1 -1  1 -1  0  0  0 -1  1  1 -1  1 -1\n",
      " -1  1  1  1 -1  1 -1  0 -1  1 -1  0  0  0  0  0  0  0  1 -1  1 -1 -1  1\n",
      "  0  0 -1  0  0  0  0  0  0  0  0  0  0  0  0  0  0  0  0  0  0  0  0  0\n",
      "  0  0  0  1 -1  0  0  0  1 -1  0  1 -1  0  0  0  0  0  0  1 -1  0  1 -1\n",
      " -1  1  1  0  0 -1  0  0  0  1  0 -1  1 -1  0  1 -1  0  0  1 -1  1  1 -1\n",
      "  1  1 -1  1 -1  1 -1  0  1 -1  1 -1  0  1 -1  1  1  0 -1  1  0  0 -1  1\n",
      "  0  1]\n"
     ]
    },
    {
     "name": "stderr",
     "output_type": "stream",
     "text": [
      "C:\\Users\\jbohn\\AppData\\Local\\Temp\\ipykernel_11220\\2129338783.py:14: DeprecationWarning: less that 170 samples in lengths array [ 0 -1  1 -1  1  1  0  1 -1 -1  0  1  1 -1 -1  1  1  1 -1  1 -1  1  0  0\n",
      "  1 -1  0  0  1 -1 -1  1  1 -1 -1  1 -1  1 -1  0  0  0 -1  1  1 -1  1 -1\n",
      " -1  1  1  1 -1  1 -1  0 -1  1 -1  0  0  0  0  0  0  0  1 -1  1 -1 -1  1\n",
      "  0  0 -1  0  0  0  0  0  0  0  0  0  0  0  0  0  0  0  0  0  0  0  0  0\n",
      "  0  0  0  1 -1  0  0  0  1 -1  0  1 -1  0  0  0  0  0  0  1 -1  0  1 -1\n",
      " -1  1  1  0  0 -1  0  0  0  1  0 -1  1 -1  0  1 -1  0  0  1 -1  1  1 -1\n",
      "  1  1 -1  1 -1  1 -1  0  1 -1  1 -1  0  1 -1  1  1  0 -1  1  0  0 -1  1\n",
      "  0  1]; support for silently dropping samples is deprecated and will be removed\n",
      "  fitted_spread=spread_model.fit(X_train,y_train)\n"
     ]
    },
    {
     "ename": "IndexError",
     "evalue": "index 0 is out of bounds for axis 0 with size 0",
     "output_type": "error",
     "traceback": [
      "\u001b[1;31m---------------------------------------------------------------------------\u001b[0m",
      "\u001b[1;31mIndexError\u001b[0m                                Traceback (most recent call last)",
      "\u001b[1;32mc:\\Aorda\\PSG\\Python\\Examples\\HMM\\hmm.ipynb Cell 12\u001b[0m in \u001b[0;36m<cell line: 5>\u001b[1;34m()\u001b[0m\n\u001b[0;32m     <a href='vscode-notebook-cell:/c%3A/Aorda/PSG/Python/Examples/HMM/hmm.ipynb#X14sZmlsZQ%3D%3D?line=11'>12</a>\u001b[0m spread_model\u001b[39m=\u001b[39mGaussianHMM(n_components\u001b[39m=\u001b[39mspread_states,covariance_type\u001b[39m=\u001b[39m\u001b[39m'\u001b[39m\u001b[39mdiag\u001b[39m\u001b[39m'\u001b[39m,startprob_prior\u001b[39m=\u001b[39m\u001b[39m1.0\u001b[39m, transmat_prior\u001b[39m=\u001b[39m\u001b[39m1.0\u001b[39m, algorithm\u001b[39m=\u001b[39m\u001b[39m'\u001b[39m\u001b[39mviterbi\u001b[39m\u001b[39m'\u001b[39m,params\u001b[39m=\u001b[39m\u001b[39m'\u001b[39m\u001b[39mstmc\u001b[39m\u001b[39m'\u001b[39m, init_params\u001b[39m=\u001b[39m\u001b[39m'\u001b[39m\u001b[39mstmc\u001b[39m\u001b[39m'\u001b[39m)\n\u001b[0;32m     <a href='vscode-notebook-cell:/c%3A/Aorda/PSG/Python/Examples/HMM/hmm.ipynb#X14sZmlsZQ%3D%3D?line=12'>13</a>\u001b[0m spread_model\u001b[39m.\u001b[39mstartprob_ \u001b[39m=\u001b[39m X_train[\u001b[39m0\u001b[39m]\n\u001b[1;32m---> <a href='vscode-notebook-cell:/c%3A/Aorda/PSG/Python/Examples/HMM/hmm.ipynb#X14sZmlsZQ%3D%3D?line=13'>14</a>\u001b[0m fitted_spread\u001b[39m=\u001b[39mspread_model\u001b[39m.\u001b[39;49mfit(X_train,y_train)\n\u001b[0;32m     <a href='vscode-notebook-cell:/c%3A/Aorda/PSG/Python/Examples/HMM/hmm.ipynb#X14sZmlsZQ%3D%3D?line=14'>15</a>\u001b[0m log_prob\u001b[39m=\u001b[39mfitted_spread\u001b[39m.\u001b[39mscore(X_test,y_test)\n\u001b[0;32m     <a href='vscode-notebook-cell:/c%3A/Aorda/PSG/Python/Examples/HMM/hmm.ipynb#X14sZmlsZQ%3D%3D?line=15'>16</a>\u001b[0m \u001b[39mprint\u001b[39m(\u001b[39mf\u001b[39m\u001b[39m\"\u001b[39m\u001b[39mOut of Sample Log Probability is \u001b[39m\u001b[39m{\u001b[39;00mlog_prob\u001b[39m}\u001b[39;00m\u001b[39m\"\u001b[39m)\n",
      "File \u001b[1;32mc:\\Users\\jbohn\\AppData\\Local\\R-MINI~1\\envs\\hmm\\lib\\site-packages\\hmmlearn\\base.py:515\u001b[0m, in \u001b[0;36mBaseHMM.fit\u001b[1;34m(self, X, lengths)\u001b[0m\n\u001b[0;32m    510\u001b[0m     lattice, log_prob, posteriors, fwdlattice, bwdlattice \u001b[39m=\u001b[39m \\\n\u001b[0;32m    511\u001b[0m             impl(sub_X)\n\u001b[0;32m    512\u001b[0m     \u001b[39m# Derived HMM classes will implement the following method to\u001b[39;00m\n\u001b[0;32m    513\u001b[0m     \u001b[39m# update their probability distributions, so keep\u001b[39;00m\n\u001b[0;32m    514\u001b[0m     \u001b[39m# a single call to this method for simplicity.\u001b[39;00m\n\u001b[1;32m--> 515\u001b[0m     \u001b[39mself\u001b[39;49m\u001b[39m.\u001b[39;49m_accumulate_sufficient_statistics(\n\u001b[0;32m    516\u001b[0m         stats, sub_X, lattice, posteriors, fwdlattice,\n\u001b[0;32m    517\u001b[0m         bwdlattice)\n\u001b[0;32m    518\u001b[0m     curr_log_prob \u001b[39m+\u001b[39m\u001b[39m=\u001b[39m log_prob\n\u001b[0;32m    520\u001b[0m \u001b[39m# XXX must be before convergence check, because otherwise\u001b[39;00m\n\u001b[0;32m    521\u001b[0m \u001b[39m#     there won't be any updates for the case ``n_iter=1``.\u001b[39;00m\n",
      "File \u001b[1;32mc:\\Users\\jbohn\\AppData\\Local\\R-MINI~1\\envs\\hmm\\lib\\site-packages\\hmmlearn\\hmm.py:246\u001b[0m, in \u001b[0;36mGaussianHMM._accumulate_sufficient_statistics\u001b[1;34m(self, stats, obs, lattice, posteriors, fwdlattice, bwdlattice)\u001b[0m\n\u001b[0;32m    244\u001b[0m \u001b[39mdef\u001b[39;00m \u001b[39m_accumulate_sufficient_statistics\u001b[39m(\u001b[39mself\u001b[39m, stats, obs, lattice,\n\u001b[0;32m    245\u001b[0m                                       posteriors, fwdlattice, bwdlattice):\n\u001b[1;32m--> 246\u001b[0m     \u001b[39msuper\u001b[39;49m()\u001b[39m.\u001b[39;49m_accumulate_sufficient_statistics(\n\u001b[0;32m    247\u001b[0m         stats, obs, lattice, posteriors, fwdlattice, bwdlattice)\n\u001b[0;32m    249\u001b[0m     \u001b[39mif\u001b[39;00m \u001b[39m'\u001b[39m\u001b[39mm\u001b[39m\u001b[39m'\u001b[39m \u001b[39min\u001b[39;00m \u001b[39mself\u001b[39m\u001b[39m.\u001b[39mparams \u001b[39mor\u001b[39;00m \u001b[39m'\u001b[39m\u001b[39mc\u001b[39m\u001b[39m'\u001b[39m \u001b[39min\u001b[39;00m \u001b[39mself\u001b[39m\u001b[39m.\u001b[39mparams:\n\u001b[0;32m    250\u001b[0m         stats[\u001b[39m'\u001b[39m\u001b[39mpost\u001b[39m\u001b[39m'\u001b[39m] \u001b[39m+\u001b[39m\u001b[39m=\u001b[39m posteriors\u001b[39m.\u001b[39msum(axis\u001b[39m=\u001b[39m\u001b[39m0\u001b[39m)\n",
      "File \u001b[1;32mc:\\Users\\jbohn\\AppData\\Local\\R-MINI~1\\envs\\hmm\\lib\\site-packages\\hmmlearn\\base.py:769\u001b[0m, in \u001b[0;36mBaseHMM._accumulate_sufficient_statistics\u001b[1;34m(self, stats, X, lattice, posteriors, fwdlattice, bwdlattice)\u001b[0m\n\u001b[0;32m    739\u001b[0m \u001b[39m\"\"\"\u001b[39;00m\n\u001b[0;32m    740\u001b[0m \u001b[39mUpdate sufficient statistics from a given sample.\u001b[39;00m\n\u001b[0;32m    741\u001b[0m \n\u001b[1;32m   (...)\u001b[0m\n\u001b[0;32m    761\u001b[0m \u001b[39m    forward and backward probabilities.\u001b[39;00m\n\u001b[0;32m    762\u001b[0m \u001b[39m\"\"\"\u001b[39;00m\n\u001b[0;32m    764\u001b[0m impl \u001b[39m=\u001b[39m {\n\u001b[0;32m    765\u001b[0m     \u001b[39m\"\u001b[39m\u001b[39mscaling\u001b[39m\u001b[39m\"\u001b[39m: \u001b[39mself\u001b[39m\u001b[39m.\u001b[39m_accumulate_sufficient_statistics_scaling,\n\u001b[0;32m    766\u001b[0m     \u001b[39m\"\u001b[39m\u001b[39mlog\u001b[39m\u001b[39m\"\u001b[39m: \u001b[39mself\u001b[39m\u001b[39m.\u001b[39m_accumulate_sufficient_statistics_log,\n\u001b[0;32m    767\u001b[0m }[\u001b[39mself\u001b[39m\u001b[39m.\u001b[39mimplementation]\n\u001b[1;32m--> 769\u001b[0m \u001b[39mreturn\u001b[39;00m impl(stats\u001b[39m=\u001b[39;49mstats, X\u001b[39m=\u001b[39;49mX, lattice\u001b[39m=\u001b[39;49mlattice, posteriors\u001b[39m=\u001b[39;49mposteriors,\n\u001b[0;32m    770\u001b[0m             fwdlattice\u001b[39m=\u001b[39;49mfwdlattice, bwdlattice\u001b[39m=\u001b[39;49mbwdlattice)\n",
      "File \u001b[1;32mc:\\Users\\jbohn\\AppData\\Local\\R-MINI~1\\envs\\hmm\\lib\\site-packages\\hmmlearn\\base.py:799\u001b[0m, in \u001b[0;36mBaseHMM._accumulate_sufficient_statistics_log\u001b[1;34m(self, stats, X, lattice, posteriors, fwdlattice, bwdlattice)\u001b[0m\n\u001b[0;32m    797\u001b[0m stats[\u001b[39m'\u001b[39m\u001b[39mnobs\u001b[39m\u001b[39m'\u001b[39m] \u001b[39m+\u001b[39m\u001b[39m=\u001b[39m \u001b[39m1\u001b[39m\n\u001b[0;32m    798\u001b[0m \u001b[39mif\u001b[39;00m \u001b[39m'\u001b[39m\u001b[39ms\u001b[39m\u001b[39m'\u001b[39m \u001b[39min\u001b[39;00m \u001b[39mself\u001b[39m\u001b[39m.\u001b[39mparams:\n\u001b[1;32m--> 799\u001b[0m     stats[\u001b[39m'\u001b[39m\u001b[39mstart\u001b[39m\u001b[39m'\u001b[39m] \u001b[39m+\u001b[39m\u001b[39m=\u001b[39m posteriors[\u001b[39m0\u001b[39;49m]\n\u001b[0;32m    800\u001b[0m \u001b[39mif\u001b[39;00m \u001b[39m'\u001b[39m\u001b[39mt\u001b[39m\u001b[39m'\u001b[39m \u001b[39min\u001b[39;00m \u001b[39mself\u001b[39m\u001b[39m.\u001b[39mparams:\n\u001b[0;32m    801\u001b[0m     n_samples, n_components \u001b[39m=\u001b[39m lattice\u001b[39m.\u001b[39mshape\n",
      "\u001b[1;31mIndexError\u001b[0m: index 0 is out of bounds for axis 0 with size 0"
     ]
    }
   ],
   "source": [
    "tscv = TimeSeriesSplit(n_splits=5)\n",
    "\n",
    "\n",
    "counter=0\n",
    "for train_index, test_index in tscv.split(features):\n",
    "    \n",
    "    X_train, X_test = features.iloc[train_index].values, features.iloc[test_index].values\n",
    "    y_train, y_test = outcomes['spread_state'].iloc[train_index].values, outcomes['spread_state'].iloc[test_index].values\n",
    "    print(y_train)\n",
    "    spread_states=3\n",
    "\n",
    "    spread_model=GaussianHMM(n_components=spread_states,covariance_type='diag',startprob_prior=1.0, transmat_prior=1.0, algorithm='viterbi',params='stmc', init_params='stmc')\n",
    "    spread_model.startprob_ = X_train[0]\n",
    "    fitted_spread=spread_model.fit(X_train,y_train)\n",
    "    log_prob=fitted_spread.score(X_test,y_test)\n",
    "    print(f\"Out of Sample Log Probability is {log_prob}\")\n",
    "    break"
   ]
  },
  {
   "cell_type": "code",
   "execution_count": null,
   "metadata": {},
   "outputs": [],
   "source": [
    "book_states=4\n",
    "\n",
    "book_model=MultinomialHMM(n_components=book_states,startprob_prior=1.0, transmat_prior=1.0, algorithm='viterbi',params='ste', init_params='ste')\n",
    "book_model.fit()"
   ]
  },
  {
   "cell_type": "markdown",
   "metadata": {},
   "source": []
  }
 ],
 "metadata": {
  "kernelspec": {
   "display_name": "Python 3.8.0 ('hmm')",
   "language": "python",
   "name": "python3"
  },
  "language_info": {
   "codemirror_mode": {
    "name": "ipython",
    "version": 3
   },
   "file_extension": ".py",
   "mimetype": "text/x-python",
   "name": "python",
   "nbconvert_exporter": "python",
   "pygments_lexer": "ipython3",
   "version": "3.8.0"
  },
  "orig_nbformat": 4,
  "vscode": {
   "interpreter": {
    "hash": "80cc58d642badbeb27aa4dea55477ea0db095f88739fbd6a40ddef87b59ea8ce"
   }
  }
 },
 "nbformat": 4,
 "nbformat_minor": 2
}

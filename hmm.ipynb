{
 "cells": [
  {
   "cell_type": "markdown",
   "metadata": {},
   "source": [
    "### Statistical Inference of Hidden Markov Models on High Frequency Quote Data\n",
    "\n",
    "Benchmarking PSG performance of statistical inference against HMMLearn \n",
    "\n",
    "References:\n",
    "\n",
    "PSG: http://aorda.com/html/PSG_Help_HTML/index.html?hmm_normal.htm\n",
    "\n",
    "HMMLearn: https://hmmlearn.readthedocs.io/en/latest/index.html\n",
    "\n"
   ]
  },
  {
   "cell_type": "code",
   "execution_count": 155,
   "metadata": {},
   "outputs": [],
   "source": [
    "import pandas as pd\n",
    "import numpy as np\n",
    "from hmmlearn.hmm import GaussianHMM\n",
    "from sklearn.model_selection import TimeSeriesSplit\n",
    "import matplotlib.pyplot as plt\n",
    "\n",
    "import os\n",
    "os.add_dll_directory('C:\\Aorda\\PSG\\lib')\n",
    "import psgpython as psg \n",
    "from psg_loader import load_psg\n",
    "\n",
    "load_psg()"
   ]
  },
  {
   "cell_type": "markdown",
   "metadata": {},
   "source": [
    "Inputting features removing duplicated values within each observation\n"
   ]
  },
  {
   "cell_type": "code",
   "execution_count": 159,
   "metadata": {},
   "outputs": [
    {
     "name": "stdout",
     "output_type": "stream",
     "text": [
      "Dropped 2260 of original 5000 consecutive repeated values from input series\n",
      "Dropped 2362 of original 5000 consecutive repeated values from input series\n",
      "Dropped 1396 of original 5000 consecutive repeated values from input series\n",
      "Dropped 1020 of original 5000 consecutive repeated values from input series\n"
     ]
    }
   ],
   "source": [
    "features=pd.read_csv('data/features.csv',index_col=0,nrows=5000)\n",
    "\n",
    "def remove_duplicates(series):\n",
    "    \n",
    "    cleaned_series=series[np.insert(np.diff(series).astype(bool), 0, True)]\n",
    "    dropped_els=len(series)-len(cleaned_series)\n",
    "    \n",
    "    print(f\"Dropped {dropped_els} of original {len(series)} consecutive repeated values from input series\")\n",
    "    return cleaned_series\n",
    "\n",
    "bidsize=remove_duplicates(features['Bid_Size'].values)\n",
    "offersize=remove_duplicates(features['Offer_Size'].values)\n",
    "bookimbalance=remove_duplicates(features['OB_IB'].values)\n",
    "spread=remove_duplicates(features['spread'].values)\n",
    "\n",
    "# formatted as numpy float \n",
    "np.savetxt(r'psg_text_hmm/vector_bidsize.txt', bidsize)\n",
    "np.savetxt(r'psg_text_hmm/vector_offersize.txt', offersize)\n",
    "np.savetxt(r'psg_text_hmm/vector_bookimbalance.txt', bookimbalance)\n",
    "np.savetxt(r'psg_text_hmm/vector_spread.txt', spread)\n",
    "\n"
   ]
  },
  {
   "cell_type": "markdown",
   "metadata": {},
   "source": [
    "# Steps\n",
    "\n",
    "- Train HMM on one feature at a time\n",
    "- Assume each feature is sampled according to two normal distributions that are our hidden states. \n",
    "- Learn optimal parameterization of hidden states"
   ]
  },
  {
   "cell_type": "markdown",
   "metadata": {},
   "source": [
    "### PSG\n",
    "\n",
    "Utilized HMM_Normal optimization routine for each feature\n",
    "\n",
    "Initial point is estimated via Baum-Welch Algorithm\n",
    "\n",
    "Inference is completed via constrained optimization\n",
    "\n"
   ]
  },
  {
   "cell_type": "markdown",
   "metadata": {},
   "source": [
    "### Spread"
   ]
  },
  {
   "cell_type": "code",
   "execution_count": 161,
   "metadata": {},
   "outputs": [
    {
     "name": "stdout",
     "output_type": "stream",
     "text": [
      "OK. Problem Imported\n",
      "\n",
      "Running solver\n",
      "Reading problem formulation\n",
      "Warning: 1 Object: Problem analizing\tMessage: Problem Statement: objective may be non-convex\n",
      "Asking for data information\n",
      "Getting data\n",
      "    100.0% of scenarios is processed\n",
      "100% of vector_spread was read\n",
      "Start optimization\n",
      "Ext.iteration=0  Objective=0.854976334224E+00  Residual=0.000000000000E+00\n",
      "Ext.iteration=10  Objective=0.854976334224E+00  Residual=0.000000000000E+00\n",
      "Optimization is stopped\n",
      "Solution is optimal\n",
      "Calculating resulting outputs. Writing solution.\n",
      "Objective: objective = 20309.0557089 [-2.474368648186E+16]\n",
      "Solver has normally finished. Solution was saved.\n",
      "Problem: problem_hmm_normal, solution_status = optimal\n",
      "Timing: data_loading_time = 0.11, preprocessing_time = 2.72, solving_time = 0.07\n",
      "Variables: optimal_point = point_problem_hmm_normal\n",
      "Objective: objective = 20309.0557089 [-2.474368648186E+16]\n",
      "Constraint: sum_of_probabilities_for_states = vector_sum_of_probabilities_for_states\n",
      "Function: hmm_normal(2,vector_spread) =  2.030905570892E+04\n",
      "OK. Solver Finished\n",
      "\n"
     ]
    },
    {
     "data": {
      "text/plain": [
       "dict_values(['problem_hmm_normal', 'optimal', ['problem_HMM_Normal, maximize', '  hmm_normal(2,vector_spread)', '  Solver: VAN , precision=9, stages=10'], ['Problem: problem_hmm_normal, solution_status = optimal', 'Timing: data_loading_time = 0.11, preprocessing_time = 2.72, solving_time = 0.07', 'Variables: optimal_point = point_problem_hmm_normal', 'Objective: objective = 20309.0557089 [-2.474368648186E+16]', 'Constraint: sum_of_probabilities_for_states = vector_sum_of_probabilities_for_states', 'Function: hmm_normal(2,vector_spread) =  2.030905570892E+04'], [['p1', 'p2', 'a1_1', 'a1_2', 'a2_1', 'a2_2', 'mu1', 'si1', 'mu2', 'si2'], array([0.00000000e+00, 1.00000000e+00, 8.84131876e-01, 1.15868124e-01,\n",
       "       7.21213114e-01, 2.78786886e-01, 1.09959669e-03, 5.39832179e-04,\n",
       "       2.76887706e-02, 5.40693555e-02])], array([2., 1., 2., ..., 1., 1., 1.]), array([1., 1., 1.]), array([6.49480469e-14, 2.88657986e-15, 0.00000000e+00]), [['state1', 'state2'], array([[0.00000000e+00, 1.00000000e+00],\n",
       "       [6.21519046e-01, 3.78480954e-01],\n",
       "       [4.42996871e-04, 9.99557003e-01],\n",
       "       ...,\n",
       "       [9.96717873e-01, 3.28212679e-03],\n",
       "       [9.98616914e-01, 1.38308610e-03],\n",
       "       [9.98792729e-01, 1.20727149e-03]])], ['Warning: 1 Object: Problem analizing\\tMessage: Problem Statement: objective may be non-convex'], ['Reading problem formulation', 'Warning: 1 Object: Problem analizing\\tMessage: Problem Statement: objective may be non-convex', 'Asking for data information', 'Getting data', '    100.0% of scenarios is processed', '100% of vector_spread was read', 'Start optimization', 'Ext.iteration=0  Objective=0.854976334224E+00  Residual=0.000000000000E+00', 'Ext.iteration=10  Objective=0.854976334224E+00  Residual=0.000000000000E+00', 'Optimization is stopped', 'Solution is optimal', 'Calculating resulting outputs. Writing solution.', 'Objective: objective = 20309.0557089 [-2.474368648186E+16]', 'Solver has normally finished. Solution was saved.']])"
      ]
     },
     "execution_count": 161,
     "metadata": {},
     "output_type": "execute_result"
    }
   ],
   "source": [
    "psg_spread_prob = psg.psg_importfromtext('./psg_text_hmm/problem_hmm_normal_spread.txt')\n",
    "psg_spread_prob['problem_statement'] = '\\n'.join(psg_spread_prob['problem_statement'])\n",
    "spread_solution=psg.psg_solver(psg_spread_prob)\n",
    "spread_solution.values()"
   ]
  },
  {
   "cell_type": "markdown",
   "metadata": {},
   "source": [
    "### Book Imbalance"
   ]
  },
  {
   "cell_type": "code",
   "execution_count": 162,
   "metadata": {},
   "outputs": [
    {
     "name": "stdout",
     "output_type": "stream",
     "text": [
      "OK. Problem Imported\n",
      "\n",
      "Running solver\n",
      "Reading problem formulation\n",
      "Warning: 1 Object: Problem analizing\tMessage: Problem Statement: objective may be non-convex\n",
      "Asking for data information\n",
      "Getting data\n",
      "    100.0% of scenarios is processed\n",
      "100% of vector_bookimbalance was read\n",
      "Start optimization\n",
      "Ext.iteration=0  Objective=0.949324250930E+00  Residual=0.000000000000E+00\n",
      "Ext.iteration=10  Objective=0.949324250930E+00  Residual=0.000000000000E+00\n",
      "Optimization is stopped\n",
      "Solution is optimal\n",
      "Calculating resulting outputs. Writing solution.\n",
      "Objective: objective = 21466.7161771 [-2.355482087659E+16]\n",
      "Solver has normally finished. Solution was saved.\n",
      "Problem: problem_hmm_normal, solution_status = optimal\n",
      "Timing: data_loading_time = 0.08, preprocessing_time = 1.82, solving_time = 0.05\n",
      "Variables: optimal_point = point_problem_hmm_normal\n",
      "Objective: objective = 21466.7161771 [-2.355482087659E+16]\n",
      "Constraint: sum_of_probabilities_for_states = vector_sum_of_probabilities_for_states\n",
      "Function: hmm_normal(2,vector_bookimbalance) =  2.146671617708E+04\n",
      "OK. Solver Finished\n",
      "\n"
     ]
    },
    {
     "data": {
      "text/plain": [
       "dict_values(['problem_hmm_normal', 'optimal', ['problem_HMM_Normal, maximize', '  hmm_normal(2,vector_bookimbalance)', '  Solver: VAN , precision=9, stages=10'], ['Problem: problem_hmm_normal, solution_status = optimal', 'Timing: data_loading_time = 0.08, preprocessing_time = 1.82, solving_time = 0.05', 'Variables: optimal_point = point_problem_hmm_normal', 'Objective: objective = 21466.7161771 [-2.355482087659E+16]', 'Constraint: sum_of_probabilities_for_states = vector_sum_of_probabilities_for_states', 'Function: hmm_normal(2,vector_bookimbalance) =  2.146671617708E+04'], [['p1', 'p2', 'a1_1', 'a1_2', 'a2_1', 'a2_2', 'mu1', 'si1', 'mu2', 'si2'], array([1.00000000e+00, 0.00000000e+00, 9.49108797e-01, 5.08912029e-02,\n",
       "       7.85060430e-01, 2.14939570e-01, 5.73208114e-04, 4.05523971e-04,\n",
       "       1.62814926e-02, 2.03592096e-02])], array([1., 1., 1., ..., 1., 1., 1.]), array([1., 1., 1.]), array([0.00000000e+00, 4.88498131e-15, 3.55271368e-15]), [['state1', 'state2'], array([[1.00000000e+00, 0.00000000e+00],\n",
       "       [9.98734924e-01, 1.26507643e-03],\n",
       "       [9.99333241e-01, 6.66759481e-04],\n",
       "       ...,\n",
       "       [9.99332752e-01, 6.67248077e-04],\n",
       "       [9.98730776e-01, 1.26922364e-03],\n",
       "       [9.99196927e-01, 8.03072537e-04]])], ['Warning: 1 Object: Problem analizing\\tMessage: Problem Statement: objective may be non-convex'], ['Reading problem formulation', 'Warning: 1 Object: Problem analizing\\tMessage: Problem Statement: objective may be non-convex', 'Asking for data information', 'Getting data', '    100.0% of scenarios is processed', '100% of vector_bookimbalance was read', 'Start optimization', 'Ext.iteration=0  Objective=0.949324250930E+00  Residual=0.000000000000E+00', 'Ext.iteration=10  Objective=0.949324250930E+00  Residual=0.000000000000E+00', 'Optimization is stopped', 'Solution is optimal', 'Calculating resulting outputs. Writing solution.', 'Objective: objective = 21466.7161771 [-2.355482087659E+16]', 'Solver has normally finished. Solution was saved.']])"
      ]
     },
     "execution_count": 162,
     "metadata": {},
     "output_type": "execute_result"
    }
   ],
   "source": [
    "psg_bookimbalance_prob = psg.psg_importfromtext('./psg_text_hmm/problem_hmm_normal_bookimbalance.txt')\n",
    "psg_bookimbalance_prob['problem_statement'] = '\\n'.join(psg_bookimbalance_prob['problem_statement'])\n",
    "bookimbalance_solution=psg.psg_solver(psg_bookimbalance_prob)\n",
    "bookimbalance_solution.values()"
   ]
  },
  {
   "cell_type": "markdown",
   "metadata": {},
   "source": [
    "### Offer Size"
   ]
  },
  {
   "cell_type": "markdown",
   "metadata": {},
   "source": []
  },
  {
   "cell_type": "code",
   "execution_count": 163,
   "metadata": {},
   "outputs": [
    {
     "name": "stdout",
     "output_type": "stream",
     "text": [
      "OK. Problem Imported\n",
      "\n",
      "Running solver\n",
      "Reading problem formulation\n",
      "Warning: 1 Object: Problem analizing\tMessage: Problem Statement: objective may be non-convex\n",
      "Asking for data information\n",
      "Getting data\n",
      "    100.0% of scenarios is processed\n",
      "100% of vector_offersize was read\n",
      "Start optimization\n",
      "Ext.iteration=0  Objective=0.770200568914E+00  Residual=0.000000000000E+00\n",
      "Ext.iteration=10  Objective=0.770200568914E+00  Residual=0.000000000000E+00\n",
      "Optimization is stopped\n",
      "Solution is optimal\n",
      "Calculating resulting outputs. Writing solution.\n",
      "Objective: objective = 14610.5883147 [-1.976025913521E+16]\n",
      "Solver has normally finished. Solution was saved.\n",
      "Problem: problem_hmm_normal, solution_status = optimal\n",
      "Timing: data_loading_time = 0.16, preprocessing_time = 1.43, solving_time = 0.04\n",
      "Variables: optimal_point = point_problem_hmm_normal\n",
      "Objective: objective = 14610.5883147 [-1.976025913521E+16]\n",
      "Constraint: sum_of_probabilities_for_states = vector_sum_of_probabilities_for_states\n",
      "Function: hmm_normal(2,vector_offersize) =  1.461058831470E+04\n",
      "OK. Solver Finished\n",
      "\n"
     ]
    },
    {
     "data": {
      "text/plain": [
       "dict_values(['problem_hmm_normal', 'optimal', ['problem_HMM_Normal, maximize', '  hmm_normal(2,vector_offersize)', '  Solver: VAN , precision=9, stages=10'], ['Problem: problem_hmm_normal, solution_status = optimal', 'Timing: data_loading_time = 0.16, preprocessing_time = 1.43, solving_time = 0.04', 'Variables: optimal_point = point_problem_hmm_normal', 'Objective: objective = 14610.5883147 [-1.976025913521E+16]', 'Constraint: sum_of_probabilities_for_states = vector_sum_of_probabilities_for_states', 'Function: hmm_normal(2,vector_offersize) =  1.461058831470E+04'], [['p1', 'p2', 'a1_1', 'a1_2', 'a2_1', 'a2_2', 'mu1', 'si1', 'mu2', 'si2'], array([1.00000000e+00, 0.00000000e+00, 9.32063182e-01, 6.79368183e-02,\n",
       "       6.86041627e-01, 3.13958373e-01, 5.11936157e-04, 5.34551600e-04,\n",
       "       1.87019261e-02, 1.96073010e-02])], array([1., 1., 1., ..., 1., 1., 1.]), array([1., 1., 1.]), array([0.00000000e+00, 4.88498131e-15, 4.66293670e-15]), [['state1', 'state2'], array([[1.00000000e+00, 0.00000000e+00],\n",
       "       [9.99041913e-01, 9.58087175e-04],\n",
       "       [9.98475723e-01, 1.52427718e-03],\n",
       "       ...,\n",
       "       [9.99034675e-01, 9.65324903e-04],\n",
       "       [9.98516672e-01, 1.48332840e-03],\n",
       "       [9.98699075e-01, 1.30092480e-03]])], ['Warning: 1 Object: Problem analizing\\tMessage: Problem Statement: objective may be non-convex'], ['Reading problem formulation', 'Warning: 1 Object: Problem analizing\\tMessage: Problem Statement: objective may be non-convex', 'Asking for data information', 'Getting data', '    100.0% of scenarios is processed', '100% of vector_offersize was read', 'Start optimization', 'Ext.iteration=0  Objective=0.770200568914E+00  Residual=0.000000000000E+00', 'Ext.iteration=10  Objective=0.770200568914E+00  Residual=0.000000000000E+00', 'Optimization is stopped', 'Solution is optimal', 'Calculating resulting outputs. Writing solution.', 'Objective: objective = 14610.5883147 [-1.976025913521E+16]', 'Solver has normally finished. Solution was saved.']])"
      ]
     },
     "execution_count": 163,
     "metadata": {},
     "output_type": "execute_result"
    }
   ],
   "source": [
    "psg_offersize_prob = psg.psg_importfromtext('./psg_text_hmm/problem_hmm_normal_offersize.txt')\n",
    "psg_offersize_prob['problem_statement'] = '\\n'.join(psg_offersize_prob['problem_statement'])\n",
    "offersize_solution=psg.psg_solver(psg_offersize_prob)\n",
    "offersize_solution.values()"
   ]
  },
  {
   "cell_type": "markdown",
   "metadata": {},
   "source": [
    "### Bid Size"
   ]
  },
  {
   "cell_type": "code",
   "execution_count": 164,
   "metadata": {},
   "outputs": [
    {
     "name": "stdout",
     "output_type": "stream",
     "text": [
      "OK. Problem Imported\n",
      "\n",
      "Running solver\n",
      "Reading problem formulation\n",
      "Warning: 1 Object: Problem analizing\tMessage: Problem Statement: objective may be non-convex\n",
      "Asking for data information\n",
      "Getting data\n",
      "    100.0% of scenarios is processed\n",
      "100% of vector_bidsize was read\n",
      "Start optimization\n",
      "Ext.iteration=0  Objective=0.661743463934E+00  Residual=0.000000000000E+00\n",
      "Ext.iteration=10  Objective=0.661743463934E+00  Residual=0.000000000000E+00\n",
      "Optimization is stopped\n",
      "Solution is optimal\n",
      "Calculating resulting outputs. Writing solution.\n",
      "Objective: objective = 9707.11338643 [-1.528020599415E+16]\n",
      "Solver has normally finished. Solution was saved.\n",
      "Problem: problem_hmm_normal, solution_status = optimal\n",
      "Timing: data_loading_time = 0.09, preprocessing_time = 1.64, solving_time = 0.03\n",
      "Variables: optimal_point = point_problem_hmm_normal\n",
      "Objective: objective = 9707.11338643 [-1.528020599415E+16]\n",
      "Constraint: sum_of_probabilities_for_states = vector_sum_of_probabilities_for_states\n",
      "Function: hmm_normal(2,vector_bidsize) =  9.707113386427E+03\n",
      "OK. Solver Finished\n",
      "\n"
     ]
    },
    {
     "data": {
      "text/plain": [
       "dict_values(['problem_hmm_normal', 'optimal', ['problem_HMM_Normal, maximize', '  hmm_normal(2,vector_bidsize)', '  Solver: VAN , precision=9, stages=10'], ['Problem: problem_hmm_normal, solution_status = optimal', 'Timing: data_loading_time = 0.09, preprocessing_time = 1.64, solving_time = 0.03', 'Variables: optimal_point = point_problem_hmm_normal', 'Objective: objective = 9707.11338643 [-1.528020599415E+16]', 'Constraint: sum_of_probabilities_for_states = vector_sum_of_probabilities_for_states', 'Function: hmm_normal(2,vector_bidsize) =  9.707113386427E+03'], [['p1', 'p2', 'a1_1', 'a1_2', 'a2_1', 'a2_2', 'mu1', 'si1', 'mu2', 'si2'], array([1.        , 0.        , 0.91938504, 0.08061496, 0.58222151,\n",
       "       0.41777849, 0.00329771, 0.0035625 , 0.06192256, 0.09484753])], array([1., 1., 1., ..., 1., 1., 1.]), array([1., 1., 1.]), array([0.00000000e+00, 4.21884749e-15, 3.99680289e-15]), [['state1', 'state2'], array([[1.        , 0.        ],\n",
       "       [0.99824468, 0.00175532],\n",
       "       [0.99712798, 0.00287202],\n",
       "       ...,\n",
       "       [0.99821229, 0.00178771],\n",
       "       [0.99733672, 0.00266328],\n",
       "       [0.99723535, 0.00276465]])], ['Warning: 1 Object: Problem analizing\\tMessage: Problem Statement: objective may be non-convex'], ['Reading problem formulation', 'Warning: 1 Object: Problem analizing\\tMessage: Problem Statement: objective may be non-convex', 'Asking for data information', 'Getting data', '    100.0% of scenarios is processed', '100% of vector_bidsize was read', 'Start optimization', 'Ext.iteration=0  Objective=0.661743463934E+00  Residual=0.000000000000E+00', 'Ext.iteration=10  Objective=0.661743463934E+00  Residual=0.000000000000E+00', 'Optimization is stopped', 'Solution is optimal', 'Calculating resulting outputs. Writing solution.', 'Objective: objective = 9707.11338643 [-1.528020599415E+16]', 'Solver has normally finished. Solution was saved.']])"
      ]
     },
     "execution_count": 164,
     "metadata": {},
     "output_type": "execute_result"
    }
   ],
   "source": [
    "psg_bidsize_prob = psg.psg_importfromtext('./psg_text_hmm/problem_hmm_normal_bidsize.txt')\n",
    "psg_bidsize_prob['problem_statement'] = '\\n'.join(psg_bidsize_prob['problem_statement'])\n",
    "bidsize_solution=psg.psg_solver(psg_bidsize_prob)\n",
    "bidsize_solution.values()"
   ]
  },
  {
   "cell_type": "markdown",
   "metadata": {},
   "source": [
    "### HMM Learn\n",
    "\n",
    "\n",
    "- Set 2 hidden components\n",
    "- Solves via the Viterbi Forward Backwards Algorithm\n",
    "- Full covariance matrix with min_covar to prevent overfitting\n",
    "- Tolerance set equivantly to PSG"
   ]
  },
  {
   "cell_type": "markdown",
   "metadata": {},
   "source": [
    "### Spread"
   ]
  },
  {
   "cell_type": "code",
   "execution_count": 175,
   "metadata": {},
   "outputs": [
    {
     "name": "stderr",
     "output_type": "stream",
     "text": [
      "         1       10371.4744             +nan\n",
      "         2       14507.2116       +4135.7372\n",
      "         3       15345.2626        +838.0510\n",
      "         4       16186.2642        +841.0016\n",
      "         5       17076.7994        +890.5352\n",
      "         6       17684.9248        +608.1254\n",
      "         7       17949.3545        +264.4297\n",
      "         8       18017.1622         +67.8077\n",
      "         9       18031.9423         +14.7800\n",
      "        10       18035.1381          +3.1958\n",
      "        11       18035.8338          +0.6957\n",
      "        12       18035.9859          +0.1521\n",
      "        13       18036.0192          +0.0333\n",
      "        14       18036.0266          +0.0073\n",
      "        15       18036.0282          +0.0016\n",
      "        16       18036.0285          +0.0004\n",
      "        17       18036.0286          +0.0001\n",
      "        18       18036.0286          +0.0000\n",
      "        19       18036.0286          +0.0000\n",
      "        20       18036.0286          +0.0000\n",
      "        21       18036.0286          +0.0000\n",
      "        22       18036.0286          +0.0000\n",
      "        23       18036.0286          +0.0000\n"
     ]
    }
   ],
   "source": [
    "spread_model=GaussianHMM(n_components=2,algorithm='viterbi',covariance_type=\"full\",min_covar=1e-4, n_iter=1000,tol=1e-8, verbose=True)\n",
    "fitted_spread_model=spread_model.fit(spread.reshape(-1, 1))"
   ]
  },
  {
   "cell_type": "code",
   "execution_count": 176,
   "metadata": {},
   "outputs": [
    {
     "name": "stdout",
     "output_type": "stream",
     "text": [
      "Transition Matrix is [0.9077427  0.0922573  0.77046555 0.22953445]\n",
      "Mean Values are is [0.00122037 0.03458228]\n",
      "Covariance Matrix is [3.56215183e-06 3.60785320e-03]\n"
     ]
    }
   ],
   "source": [
    "print(f\"Transition Matrix is {fitted_spread_model.transmat_.flatten()}\")\n",
    "print(f\"Mean Values are is {fitted_spread_model.means_.flatten()}\")\n",
    "print(f\"Covariance Matrix is {fitted_spread_model.covars_.flatten()}\")"
   ]
  },
  {
   "cell_type": "markdown",
   "metadata": {},
   "source": [
    "### Book Imbalance"
   ]
  },
  {
   "cell_type": "code",
   "execution_count": 177,
   "metadata": {},
   "outputs": [
    {
     "name": "stderr",
     "output_type": "stream",
     "text": [
      "         1        2323.1534             +nan\n",
      "         2       18275.7645      +15952.6111\n",
      "         3       18495.6910        +219.9265\n",
      "         4       18516.7125         +21.0215\n",
      "         5       18518.0513          +1.3388\n",
      "         6       18518.1532          +0.1018\n",
      "         7       18518.1989          +0.0457\n",
      "         8       18518.2185          +0.0196\n",
      "         9       18518.2254          +0.0069\n",
      "        10       18518.2276          +0.0022\n",
      "        11       18518.2283          +0.0007\n",
      "        12       18518.2285          +0.0002\n",
      "        13       18518.2285          +0.0001\n",
      "        14       18518.2285          +0.0000\n",
      "        15       18518.2285          +0.0000\n",
      "        16       18518.2285          +0.0000\n",
      "        17       18518.2285          +0.0000\n",
      "        18       18518.2285          +0.0000\n",
      "        19       18518.2285          +0.0000\n",
      "        20       18518.2285          +0.0000\n",
      "        21       18518.2285          +0.0000\n"
     ]
    }
   ],
   "source": [
    "bookimbalance_model=GaussianHMM(n_components=2,algorithm='viterbi',covariance_type=\"full\",min_covar=1e-4, n_iter=1000,tol=1e-8, verbose=True)\n",
    "fitted_bookimbalance_model=bookimbalance_model.fit(bookimbalance.reshape(-1, 1))"
   ]
  },
  {
   "cell_type": "code",
   "execution_count": 180,
   "metadata": {},
   "outputs": [
    {
     "name": "stdout",
     "output_type": "stream",
     "text": [
      "Transition Matrix is [0.97733664 0.02266336 0.94103825 0.05896175]\n",
      "Mean Values are is [0.00067809 0.03688092]\n",
      "Covariance Matrix is [3.35068608e-06 4.96496720e-04]\n"
     ]
    }
   ],
   "source": [
    "print(f\"Transition Matrix is {fitted_bookimbalance_model.transmat_.flatten()}\")\n",
    "print(f\"Mean Values are is {fitted_bookimbalance_model.means_.flatten()}\")\n",
    "print(f\"Covariance Matrix is {fitted_bookimbalance_model.covars_.flatten()}\")"
   ]
  },
  {
   "cell_type": "markdown",
   "metadata": {},
   "source": [
    "### Bid Size"
   ]
  },
  {
   "cell_type": "code",
   "execution_count": 181,
   "metadata": {},
   "outputs": [
    {
     "name": "stderr",
     "output_type": "stream",
     "text": [
      "         1        -205.4457             +nan\n",
      "         2        7965.9595       +8171.4052\n",
      "         3        8771.3726        +805.4131\n",
      "         4        9280.9350        +509.5625\n",
      "         5        9468.3391        +187.4041\n",
      "         6        9575.8131        +107.4740\n",
      "         7        9617.8312         +42.0181\n",
      "         8        9633.5069         +15.6757\n",
      "         9        9640.7660          +7.2590\n",
      "        10        9644.5897          +3.8237\n",
      "        11        9646.7362          +2.1466\n",
      "        12        9647.9830          +1.2468\n",
      "        13        9648.7199          +0.7369\n",
      "        14        9649.1589          +0.4390\n",
      "        15        9649.4211          +0.2622\n",
      "        16        9649.5778          +0.1567\n",
      "        17        9649.6714          +0.0936\n",
      "        18        9649.7272          +0.0558\n",
      "        19        9649.7605          +0.0333\n",
      "        20        9649.7803          +0.0198\n",
      "        21        9649.7922          +0.0118\n",
      "        22        9649.7992          +0.0070\n",
      "        23        9649.8034          +0.0042\n",
      "        24        9649.8059          +0.0025\n",
      "        25        9649.8074          +0.0015\n",
      "        26        9649.8082          +0.0009\n",
      "        27        9649.8088          +0.0005\n",
      "        28        9649.8091          +0.0003\n",
      "        29        9649.8093          +0.0002\n",
      "        30        9649.8094          +0.0001\n",
      "        31        9649.8094          +0.0001\n",
      "        32        9649.8095          +0.0000\n",
      "        33        9649.8095          +0.0000\n",
      "        34        9649.8095          +0.0000\n",
      "        35        9649.8095          +0.0000\n",
      "        36        9649.8095          +0.0000\n",
      "        37        9649.8095          +0.0000\n",
      "        38        9649.8095          +0.0000\n",
      "        39        9649.8095          +0.0000\n",
      "        40        9649.8095          +0.0000\n",
      "        41        9649.8095          +0.0000\n",
      "        42        9649.8095          +0.0000\n",
      "        43        9649.8095          +0.0000\n",
      "        44        9649.8095          +0.0000\n",
      "        45        9649.8095          +0.0000\n",
      "        46        9649.8095          +0.0000\n",
      "        47        9649.8095          +0.0000\n",
      "        48        9649.8095          +0.0000\n"
     ]
    }
   ],
   "source": [
    "bidsize_model=GaussianHMM(n_components=2,algorithm='viterbi',covariance_type=\"full\",min_covar=1e-4, n_iter=1000,tol=1e-8, verbose=True)\n",
    "fitted_bidsize_model=bidsize_model.fit(bidsize.reshape(-1, 1))"
   ]
  },
  {
   "cell_type": "code",
   "execution_count": 182,
   "metadata": {},
   "outputs": [
    {
     "name": "stdout",
     "output_type": "stream",
     "text": [
      "Transition Matrix is [0.93687424 0.06312576 0.52269516 0.47730484]\n",
      "Mean Values are is [0.00352137 0.0676133 ]\n",
      "Covariance Matrix is [1.95619226e-05 9.90502150e-03]\n"
     ]
    }
   ],
   "source": [
    "print(f\"Transition Matrix is {fitted_bidsize_model.transmat_.flatten()}\")\n",
    "print(f\"Mean Values are is {fitted_bidsize_model.means_.flatten()}\")\n",
    "print(f\"Covariance Matrix is {fitted_bidsize_model.covars_.flatten()}\")"
   ]
  },
  {
   "cell_type": "markdown",
   "metadata": {},
   "source": [
    "### Offer Size"
   ]
  },
  {
   "cell_type": "code",
   "execution_count": 183,
   "metadata": {},
   "outputs": [
    {
     "name": "stderr",
     "output_type": "stream",
     "text": [
      "         1        7492.4343             +nan\n",
      "         2       11926.4027       +4433.9684\n",
      "         3       12516.6284        +590.2257\n",
      "         4       12623.2027        +106.5743\n",
      "         5       12651.3003         +28.0976\n",
      "         6       12660.4762          +9.1759\n",
      "         7       12663.6569          +3.1807\n",
      "         8       12664.8262          +1.1693\n",
      "         9       12665.2836          +0.4573\n",
      "        10       12665.4736          +0.1900\n",
      "        11       12665.5567          +0.0831\n",
      "        12       12665.5946          +0.0379\n",
      "        13       12665.6123          +0.0177\n",
      "        14       12665.6207          +0.0084\n",
      "        15       12665.6248          +0.0041\n",
      "        16       12665.6267          +0.0020\n",
      "        17       12665.6277          +0.0010\n",
      "        18       12665.6282          +0.0005\n",
      "        19       12665.6284          +0.0002\n",
      "        20       12665.6285          +0.0001\n",
      "        21       12665.6286          +0.0001\n",
      "        22       12665.6286          +0.0000\n",
      "        23       12665.6286          +0.0000\n",
      "        24       12665.6286          +0.0000\n",
      "        25       12665.6286          +0.0000\n",
      "        26       12665.6286          +0.0000\n",
      "        27       12665.6286          +0.0000\n",
      "        28       12665.6286          +0.0000\n",
      "        29       12665.6286          +0.0000\n",
      "        30       12665.6286          +0.0000\n",
      "        31       12665.6286          +0.0000\n",
      "        32       12665.6286          +0.0000\n",
      "        33       12665.6286          +0.0000\n"
     ]
    }
   ],
   "source": [
    "offersize_model=GaussianHMM(n_components=2,algorithm='viterbi',covariance_type=\"full\",min_covar=1e-4, n_iter=1000,tol=1e-8, verbose=True)\n",
    "fitted_offersize_model=offersize_model.fit(offersize.reshape(-1, 1))"
   ]
  },
  {
   "cell_type": "code",
   "execution_count": 184,
   "metadata": {},
   "outputs": [
    {
     "name": "stdout",
     "output_type": "stream",
     "text": [
      "Transition Matrix is [0.96179163 0.03820837 0.76666404 0.23333596]\n",
      "Mean Values are is [0.0006806  0.03165246]\n",
      "Covariance Matrix is [4.99663118e-06 4.52385708e-04]\n"
     ]
    }
   ],
   "source": [
    "print(f\"Transition Matrix is {fitted_offersize_model.transmat_.flatten()}\")\n",
    "print(f\"Mean Values are is {fitted_offersize_model.means_.flatten()}\")\n",
    "print(f\"Covariance Matrix is {fitted_offersize_model.covars_.flatten()}\")"
   ]
  },
  {
   "cell_type": "code",
   "execution_count": null,
   "metadata": {},
   "outputs": [],
   "source": []
  }
 ],
 "metadata": {
  "kernelspec": {
   "display_name": "Python 3.8.0 ('hmm')",
   "language": "python",
   "name": "python3"
  },
  "language_info": {
   "codemirror_mode": {
    "name": "ipython",
    "version": 3
   },
   "file_extension": ".py",
   "mimetype": "text/x-python",
   "name": "python",
   "nbconvert_exporter": "python",
   "pygments_lexer": "ipython3",
   "version": "3.8.0"
  },
  "orig_nbformat": 4,
  "vscode": {
   "interpreter": {
    "hash": "80cc58d642badbeb27aa4dea55477ea0db095f88739fbd6a40ddef87b59ea8ce"
   }
  }
 },
 "nbformat": 4,
 "nbformat_minor": 2
}

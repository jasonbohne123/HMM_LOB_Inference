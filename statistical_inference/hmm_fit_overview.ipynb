{
 "cells": [
  {
   "cell_type": "markdown",
   "metadata": {},
   "source": [
    "### Statistical Inference of Hidden Markov Models on High Frequency Quote Data\n",
    "\n",
    "Benchmarking PSG performance of statistical inference against HMMLearn \n",
    "\n",
    "References:\n",
    "\n",
    "PSG: http://aorda.com/html/PSG_Help_HTML/index.html?hmm_normal.htm\n",
    "\n",
    "hmmlearn: https://hmmlearn.readthedocs.io/en/latest/index.html\n",
    "\n"
   ]
  },
  {
   "cell_type": "code",
   "execution_count": 1,
   "metadata": {},
   "outputs": [],
   "source": [
    "import pandas as pd\n",
    "import numpy as np\n",
    "from hmmlearn.hmm import GaussianHMM\n",
    "import matplotlib.pyplot as plt\n",
    "\n",
    "import os\n",
    "os.add_dll_directory('C:\\Aorda\\PSG\\lib')\n",
    "import psgpython as psg \n",
    "from psg_loader import load_psg\n",
    "\n",
    "load_psg()"
   ]
  },
  {
   "cell_type": "markdown",
   "metadata": {},
   "source": [
    "Inputting features removing duplicated values within each observation\n"
   ]
  },
  {
   "cell_type": "code",
   "execution_count": 2,
   "metadata": {},
   "outputs": [
    {
     "name": "stdout",
     "output_type": "stream",
     "text": [
      "Dropped 2215 of original 13279 consecutive repeated values from input series\n",
      "Dropped 1517 of original 13279 consecutive repeated values from input series\n",
      "Dropped 412 of original 13279 consecutive repeated values from input series\n",
      "Dropped 614 of original 13279 consecutive repeated values from input series\n"
     ]
    }
   ],
   "source": [
    "\n",
    "features=pd.read_csv('data/agg_features/grouped_features_2020-01-02.csv',index_col=0)\n",
    "frac=0.75\n",
    "\n",
    "\n",
    "\n",
    "def remove_duplicates(series):\n",
    "    \n",
    "    cleaned_series=series[np.insert(np.diff(series).astype(bool), 0, True)]\n",
    "    dropped_els=len(series)-len(cleaned_series)\n",
    "    \n",
    "    print(f\"Dropped {dropped_els} of original {len(series)} consecutive repeated values from input series\")\n",
    "    return cleaned_series\n",
    "\n",
    "bidsize=remove_duplicates(features['Bid_Size'].values)\n",
    "offersize=remove_duplicates(features['Offer_Size'].values)\n",
    "bookimbalance=remove_duplicates(features['OB_IB'].values)\n",
    "spread=remove_duplicates(features['spread'].values)\n",
    "\n",
    "# formatted as numpy float \n",
    "np.savetxt(r'psg_text_hmm/vector_bidsize.txt', bidsize)\n",
    "np.savetxt(r'psg_text_hmm/vector_offersize.txt', offersize)\n",
    "np.savetxt(r'psg_text_hmm/vector_bookimbalance.txt', bookimbalance)\n",
    "np.savetxt(r'psg_text_hmm/vector_spread.txt', spread)\n",
    "\n"
   ]
  },
  {
   "cell_type": "code",
   "execution_count": 3,
   "metadata": {},
   "outputs": [
    {
     "data": {
      "text/html": [
       "<div>\n",
       "<style scoped>\n",
       "    .dataframe tbody tr th:only-of-type {\n",
       "        vertical-align: middle;\n",
       "    }\n",
       "\n",
       "    .dataframe tbody tr th {\n",
       "        vertical-align: top;\n",
       "    }\n",
       "\n",
       "    .dataframe thead th {\n",
       "        text-align: right;\n",
       "    }\n",
       "</style>\n",
       "<table border=\"1\" class=\"dataframe\">\n",
       "  <thead>\n",
       "    <tr style=\"text-align: right;\">\n",
       "      <th></th>\n",
       "      <th>Bid_Price</th>\n",
       "      <th>Bid_Size</th>\n",
       "      <th>Offer_Price</th>\n",
       "      <th>Offer_Size</th>\n",
       "      <th>OB_IB</th>\n",
       "      <th>spread</th>\n",
       "    </tr>\n",
       "    <tr>\n",
       "      <th>sec</th>\n",
       "      <th></th>\n",
       "      <th></th>\n",
       "      <th></th>\n",
       "      <th></th>\n",
       "      <th></th>\n",
       "      <th></th>\n",
       "    </tr>\n",
       "  </thead>\n",
       "  <tbody>\n",
       "    <tr>\n",
       "      <th>2020-01-02 09:30:03</th>\n",
       "      <td>295.700</td>\n",
       "      <td>0.693147</td>\n",
       "      <td>296.750</td>\n",
       "      <td>1.945910</td>\n",
       "      <td>1.945910</td>\n",
       "      <td>0.717840</td>\n",
       "    </tr>\n",
       "    <tr>\n",
       "      <th>2020-01-02 09:30:05</th>\n",
       "      <td>296.140</td>\n",
       "      <td>1.609438</td>\n",
       "      <td>296.750</td>\n",
       "      <td>1.791759</td>\n",
       "      <td>0.810930</td>\n",
       "      <td>0.476234</td>\n",
       "    </tr>\n",
       "    <tr>\n",
       "      <th>2020-01-02 09:30:06</th>\n",
       "      <td>294.875</td>\n",
       "      <td>0.693147</td>\n",
       "      <td>296.435</td>\n",
       "      <td>1.504077</td>\n",
       "      <td>1.504077</td>\n",
       "      <td>0.940007</td>\n",
       "    </tr>\n",
       "    <tr>\n",
       "      <th>2020-01-02 09:30:15</th>\n",
       "      <td>295.120</td>\n",
       "      <td>0.693147</td>\n",
       "      <td>295.775</td>\n",
       "      <td>0.916291</td>\n",
       "      <td>0.916291</td>\n",
       "      <td>0.503801</td>\n",
       "    </tr>\n",
       "    <tr>\n",
       "      <th>2020-01-02 09:30:17</th>\n",
       "      <td>295.440</td>\n",
       "      <td>0.693147</td>\n",
       "      <td>295.630</td>\n",
       "      <td>0.693147</td>\n",
       "      <td>0.693147</td>\n",
       "      <td>0.173953</td>\n",
       "    </tr>\n",
       "    <tr>\n",
       "      <th>...</th>\n",
       "      <td>...</td>\n",
       "      <td>...</td>\n",
       "      <td>...</td>\n",
       "      <td>...</td>\n",
       "      <td>...</td>\n",
       "      <td>...</td>\n",
       "    </tr>\n",
       "    <tr>\n",
       "      <th>2020-01-02 15:59:41</th>\n",
       "      <td>300.410</td>\n",
       "      <td>1.098612</td>\n",
       "      <td>300.660</td>\n",
       "      <td>0.693147</td>\n",
       "      <td>0.405465</td>\n",
       "      <td>0.223144</td>\n",
       "    </tr>\n",
       "    <tr>\n",
       "      <th>2020-01-02 15:59:46</th>\n",
       "      <td>300.290</td>\n",
       "      <td>1.386294</td>\n",
       "      <td>300.460</td>\n",
       "      <td>0.693147</td>\n",
       "      <td>0.287682</td>\n",
       "      <td>0.157004</td>\n",
       "    </tr>\n",
       "    <tr>\n",
       "      <th>2020-01-02 15:59:50</th>\n",
       "      <td>300.290</td>\n",
       "      <td>1.386294</td>\n",
       "      <td>300.660</td>\n",
       "      <td>0.693147</td>\n",
       "      <td>0.287682</td>\n",
       "      <td>0.314811</td>\n",
       "    </tr>\n",
       "    <tr>\n",
       "      <th>2020-01-02 15:59:53</th>\n",
       "      <td>300.290</td>\n",
       "      <td>1.386294</td>\n",
       "      <td>300.660</td>\n",
       "      <td>0.693147</td>\n",
       "      <td>0.287682</td>\n",
       "      <td>0.314811</td>\n",
       "    </tr>\n",
       "    <tr>\n",
       "      <th>2020-01-02 16:00:00</th>\n",
       "      <td>300.290</td>\n",
       "      <td>1.386294</td>\n",
       "      <td>300.660</td>\n",
       "      <td>0.693147</td>\n",
       "      <td>0.287682</td>\n",
       "      <td>0.314811</td>\n",
       "    </tr>\n",
       "  </tbody>\n",
       "</table>\n",
       "<p>13279 rows × 6 columns</p>\n",
       "</div>"
      ],
      "text/plain": [
       "                     Bid_Price  Bid_Size  Offer_Price  Offer_Size     OB_IB  \\\n",
       "sec                                                                           \n",
       "2020-01-02 09:30:03    295.700  0.693147      296.750    1.945910  1.945910   \n",
       "2020-01-02 09:30:05    296.140  1.609438      296.750    1.791759  0.810930   \n",
       "2020-01-02 09:30:06    294.875  0.693147      296.435    1.504077  1.504077   \n",
       "2020-01-02 09:30:15    295.120  0.693147      295.775    0.916291  0.916291   \n",
       "2020-01-02 09:30:17    295.440  0.693147      295.630    0.693147  0.693147   \n",
       "...                        ...       ...          ...         ...       ...   \n",
       "2020-01-02 15:59:41    300.410  1.098612      300.660    0.693147  0.405465   \n",
       "2020-01-02 15:59:46    300.290  1.386294      300.460    0.693147  0.287682   \n",
       "2020-01-02 15:59:50    300.290  1.386294      300.660    0.693147  0.287682   \n",
       "2020-01-02 15:59:53    300.290  1.386294      300.660    0.693147  0.287682   \n",
       "2020-01-02 16:00:00    300.290  1.386294      300.660    0.693147  0.287682   \n",
       "\n",
       "                       spread  \n",
       "sec                            \n",
       "2020-01-02 09:30:03  0.717840  \n",
       "2020-01-02 09:30:05  0.476234  \n",
       "2020-01-02 09:30:06  0.940007  \n",
       "2020-01-02 09:30:15  0.503801  \n",
       "2020-01-02 09:30:17  0.173953  \n",
       "...                       ...  \n",
       "2020-01-02 15:59:41  0.223144  \n",
       "2020-01-02 15:59:46  0.157004  \n",
       "2020-01-02 15:59:50  0.314811  \n",
       "2020-01-02 15:59:53  0.314811  \n",
       "2020-01-02 16:00:00  0.314811  \n",
       "\n",
       "[13279 rows x 6 columns]"
      ]
     },
     "execution_count": 3,
     "metadata": {},
     "output_type": "execute_result"
    }
   ],
   "source": [
    "features"
   ]
  },
  {
   "cell_type": "markdown",
   "metadata": {},
   "source": [
    "# Steps\n",
    "\n",
    "- Train HMM on one feature at a time\n",
    "- Assume each feature is sampled according to two normal distributions that are our hidden states. \n",
    "- Learn optimal parameterization of hidden states"
   ]
  },
  {
   "cell_type": "markdown",
   "metadata": {},
   "source": [
    "### PSG\n",
    "\n",
    "Utilized HMM_Normal optimization routine for each feature\n",
    "\n",
    "Initial point is estimated via Baum-Welch Algorithm\n",
    "\n",
    "Inference is completed via constrained optimization\n",
    "\n"
   ]
  },
  {
   "cell_type": "markdown",
   "metadata": {},
   "source": [
    "### Spread"
   ]
  },
  {
   "cell_type": "code",
   "execution_count": 4,
   "metadata": {},
   "outputs": [
    {
     "name": "stdout",
     "output_type": "stream",
     "text": [
      "OK. Problem Imported\n",
      "\n",
      "Running solver\n",
      "Reading problem formulation\n",
      "Warning: 1 Object: Problem analizing\tMessage: Problem Statement: objective may be non-convex\n",
      "Asking for data information\n",
      "Getting data\n",
      "100% of vector_spread was read\n",
      "Start optimization\n",
      "Ext.iteration=0  Objective=0.740725099987E+00  Residual=0.000000000000E+00\n",
      "Ext.iteration=10  Objective=0.740725099987E+00  Residual=0.000000000000E+00\n",
      "Optimization is stopped\n",
      "Solution is optimal\n",
      "Calculating resulting outputs. Writing solution.\n",
      "Objective: objective = 32086.1760096 [-4.512213776820E+16]\n",
      "Solver has normally finished. Solution was saved.\n",
      "Problem: problem_hmm_normal, solution_status = optimal\n",
      "Timing: data_loading_time = 0.10, preprocessing_time = 12.55, solving_time = 1.16\n",
      "Variables: optimal_point = point_problem_hmm_normal\n",
      "Objective: objective = 32086.1760096 [-4.512213776820E+16]\n",
      "Constraint: sum_of_probabilities_for_states = vector_sum_of_probabilities_for_states\n",
      "Function: hmm_normal(2,vector_spread) =  3.208617600959E+04\n",
      "OK. Solver Finished\n",
      "\n"
     ]
    },
    {
     "data": {
      "text/plain": [
       "dict_values(['problem_hmm_normal', 'optimal', ['problem_HMM_Normal, maximize', '  hmm_normal(2,vector_spread)', '  Solver: VAN , precision=9, stages=10'], ['Problem: problem_hmm_normal, solution_status = optimal', 'Timing: data_loading_time = 0.10, preprocessing_time = 12.55, solving_time = 1.16', 'Variables: optimal_point = point_problem_hmm_normal', 'Objective: objective = 32086.1760096 [-4.512213776820E+16]', 'Constraint: sum_of_probabilities_for_states = vector_sum_of_probabilities_for_states', 'Function: hmm_normal(2,vector_spread) =  3.208617600959E+04'], [['p1', 'p2', 'a1_1', 'a1_2', 'a2_1', 'a2_2', 'mu1', 'si1', 'mu2', 'si2'], array([0.        , 1.        , 0.94280774, 0.05719226, 0.25851767,\n",
       "       0.74148233, 0.03607777, 0.01064202, 0.10616565, 0.09010888])], array([2., 2., 2., ..., 2., 2., 2.]), array([1., 1., 1.]), array([0.00000000e+00, 1.57651669e-14, 1.50990331e-14]), [['state1', 'state2'], array([[0.00000000e+000, 1.00000000e+000],\n",
       "       [0.00000000e+000, 1.00000000e+000],\n",
       "       [0.00000000e+000, 1.00000000e+000],\n",
       "       ...,\n",
       "       [4.24244724e-068, 1.00000000e+000],\n",
       "       [2.44682211e-029, 1.00000000e+000],\n",
       "       [4.67606211e-148, 1.00000000e+000]])], ['Warning: 1 Object: Problem analizing\\tMessage: Problem Statement: objective may be non-convex'], ['Reading problem formulation', 'Warning: 1 Object: Problem analizing\\tMessage: Problem Statement: objective may be non-convex', 'Asking for data information', 'Getting data', '100% of vector_spread was read', 'Start optimization', 'Ext.iteration=0  Objective=0.740725099987E+00  Residual=0.000000000000E+00', 'Ext.iteration=10  Objective=0.740725099987E+00  Residual=0.000000000000E+00', 'Optimization is stopped', 'Solution is optimal', 'Calculating resulting outputs. Writing solution.', 'Objective: objective = 32086.1760096 [-4.512213776820E+16]', 'Solver has normally finished. Solution was saved.']])"
      ]
     },
     "execution_count": 4,
     "metadata": {},
     "output_type": "execute_result"
    }
   ],
   "source": [
    "psg_spread_prob = psg.psg_importfromtext('./psg_text_hmm/problem_hmm_normal_spread.txt')\n",
    "psg_spread_prob['problem_statement'] = '\\n'.join(psg_spread_prob['problem_statement'])\n",
    "spread_solution=psg.psg_solver(psg_spread_prob)\n",
    "spread_solution.values()"
   ]
  },
  {
   "cell_type": "code",
   "execution_count": 5,
   "metadata": {},
   "outputs": [
    {
     "data": {
      "text/plain": [
       "0.036077765011157656"
      ]
     },
     "execution_count": 5,
     "metadata": {},
     "output_type": "execute_result"
    }
   ],
   "source": [
    "p1,p2,a11,a12,a21,a22,mu1,si1,mu2,si2=list(spread_solution.values())[4][1]\n",
    "mu1"
   ]
  },
  {
   "cell_type": "markdown",
   "metadata": {},
   "source": [
    "### Book Imbalance"
   ]
  },
  {
   "cell_type": "code",
   "execution_count": 6,
   "metadata": {},
   "outputs": [
    {
     "name": "stdout",
     "output_type": "stream",
     "text": [
      "OK. Problem Imported\n",
      "\n",
      "Running solver\n",
      "Reading problem formulation\n",
      "Warning: 1 Object: Problem analizing\tMessage: Problem Statement: objective may be non-convex\n",
      "Asking for data information\n",
      "Getting data\n",
      "100% of vector_bookimbalance was read\n",
      "Start optimization\n",
      "Ext.iteration=0  Objective=0.706870918395E+00  Residual=0.000000000000E+00\n",
      "Ext.iteration=9  Objective=0.706870918395E+00  Residual=0.000000000000E+00\n",
      "Ext.iteration=10  Objective=0.706870918395E+00  Residual=0.000000000000E+00\n",
      "Optimization is stopped\n",
      "Solution is optimal\n",
      "Calculating resulting outputs. Writing solution.\n",
      "Objective: objective = -147.294109485 [-2.170571175784E+14]\n",
      "Solver has normally finished. Solution was saved.\n",
      "Problem: problem_hmm_normal, solution_status = optimal\n",
      "Timing: data_loading_time = 0.16, preprocessing_time = 32.92, solving_time = 3.56\n",
      "Variables: optimal_point = point_problem_hmm_normal\n",
      "Objective: objective = -147.294109485 [-2.170571175784E+14]\n",
      "Constraint: sum_of_probabilities_for_states = vector_sum_of_probabilities_for_states\n",
      "Function: hmm_normal(2,vector_bookimbalance) = -1.472941094850E+02\n",
      "OK. Solver Finished\n",
      "\n"
     ]
    },
    {
     "data": {
      "text/plain": [
       "dict_values(['problem_hmm_normal', 'optimal', ['problem_HMM_Normal, maximize', '  hmm_normal(2,vector_bookimbalance)', '  Solver: VAN , precision=9, stages=10'], ['Problem: problem_hmm_normal, solution_status = optimal', 'Timing: data_loading_time = 0.16, preprocessing_time = 32.92, solving_time = 3.56', 'Variables: optimal_point = point_problem_hmm_normal', 'Objective: objective = -147.294109485 [-2.170571175784E+14]', 'Constraint: sum_of_probabilities_for_states = vector_sum_of_probabilities_for_states', 'Function: hmm_normal(2,vector_bookimbalance) = -1.472941094850E+02'], [['p1', 'p2', 'a1_1', 'a1_2', 'a2_1', 'a2_2', 'mu1', 'si1', 'mu2', 'si2'], array([1.        , 0.        , 0.93366698, 0.06633302, 0.03164285,\n",
       "       0.96835715, 1.00815161, 0.28176739, 0.71286385, 0.20429735])], array([1., 1., 1., ..., 2., 2., 2.]), array([1., 1., 1.]), array([0.00000000e+00, 5.10702591e-15, 2.88657986e-15]), [['state1', 'state2'], array([[1.00000000e+00, 0.00000000e+00],\n",
       "       [9.96862191e-01, 3.13780857e-03],\n",
       "       [1.00000000e+00, 2.42995734e-10],\n",
       "       ...,\n",
       "       [1.61072221e-02, 9.83892778e-01],\n",
       "       [1.55479181e-02, 9.84452082e-01],\n",
       "       [2.55377624e-02, 9.74462238e-01]])], ['Warning: 1 Object: Problem analizing\\tMessage: Problem Statement: objective may be non-convex'], ['Reading problem formulation', 'Warning: 1 Object: Problem analizing\\tMessage: Problem Statement: objective may be non-convex', 'Asking for data information', 'Getting data', '100% of vector_bookimbalance was read', 'Start optimization', 'Ext.iteration=0  Objective=0.706870918395E+00  Residual=0.000000000000E+00', 'Ext.iteration=9  Objective=0.706870918395E+00  Residual=0.000000000000E+00', 'Ext.iteration=10  Objective=0.706870918395E+00  Residual=0.000000000000E+00', 'Optimization is stopped', 'Solution is optimal', 'Calculating resulting outputs. Writing solution.', 'Objective: objective = -147.294109485 [-2.170571175784E+14]', 'Solver has normally finished. Solution was saved.']])"
      ]
     },
     "execution_count": 6,
     "metadata": {},
     "output_type": "execute_result"
    }
   ],
   "source": [
    "psg_bookimbalance_prob = psg.psg_importfromtext('./psg_text_hmm/problem_hmm_normal_bookimbalance.txt')\n",
    "psg_bookimbalance_prob['problem_statement'] = '\\n'.join(psg_bookimbalance_prob['problem_statement'])\n",
    "bookimbalance_solution=psg.psg_solver(psg_bookimbalance_prob)\n",
    "bookimbalance_solution.values()"
   ]
  },
  {
   "cell_type": "markdown",
   "metadata": {},
   "source": [
    "### Offer Size"
   ]
  },
  {
   "cell_type": "code",
   "execution_count": 7,
   "metadata": {},
   "outputs": [
    {
     "name": "stdout",
     "output_type": "stream",
     "text": [
      "OK. Problem Imported\n",
      "\n",
      "Running solver\n",
      "Reading problem formulation\n",
      "Warning: 1 Object: Problem analizing\tMessage: Problem Statement: objective may be non-convex\n",
      "Asking for data information\n",
      "Getting data\n",
      "100% of vector_offersize was read\n",
      "Start optimization\n",
      "Ext.iteration=0  Objective=0.754943884276E+00  Residual=0.000000000000E+00\n",
      "Ext.iteration=10  Objective=0.754943884276E+00  Residual=0.000000000000E+00\n",
      "Optimization is stopped\n",
      "Solution is optimal\n",
      "Calculating resulting outputs. Writing solution.\n",
      "Objective: objective = 1349.27644869 [-1.861722877679E+15]\n",
      "Solver has normally finished. Solution was saved.\n",
      "Problem: problem_hmm_normal, solution_status = optimal\n",
      "Timing: data_loading_time = 0.18, preprocessing_time = 21.94, solving_time = 1.27\n",
      "Variables: optimal_point = point_problem_hmm_normal\n",
      "Objective: objective = 1349.27644869 [-1.861722877679E+15]\n",
      "Constraint: sum_of_probabilities_for_states = vector_sum_of_probabilities_for_states\n",
      "Function: hmm_normal(2,vector_offersize) =  1.349276448692E+03\n",
      "OK. Solver Finished\n",
      "\n"
     ]
    },
    {
     "data": {
      "text/plain": [
       "dict_values(['problem_hmm_normal', 'optimal', ['problem_HMM_Normal, maximize', '  hmm_normal(2,vector_offersize)', '  Solver: VAN , precision=9, stages=10'], ['Problem: problem_hmm_normal, solution_status = optimal', 'Timing: data_loading_time = 0.18, preprocessing_time = 21.94, solving_time = 1.27', 'Variables: optimal_point = point_problem_hmm_normal', 'Objective: objective = 1349.27644869 [-1.861722877679E+15]', 'Constraint: sum_of_probabilities_for_states = vector_sum_of_probabilities_for_states', 'Function: hmm_normal(2,vector_offersize) =  1.349276448692E+03'], [['p1', 'p2', 'a1_1', 'a1_2', 'a2_1', 'a2_2', 'mu1', 'si1', 'mu2', 'si2'], array([1.        , 0.        , 0.68130414, 0.31869586, 0.00224315,\n",
       "       0.99775685, 1.66246961, 0.62988066, 1.21017954, 0.21892014])], array([1., 1., 1., ..., 2., 2., 2.]), array([1., 1., 1.]), array([0.00000000e+00, 2.22044605e-15, 6.88338275e-15]), [['state1', 'state2'], array([[1.00000000e+00, 0.00000000e+00],\n",
       "       [9.94791772e-01, 5.20822824e-03],\n",
       "       [9.99986342e-01, 1.36582403e-05],\n",
       "       ...,\n",
       "       [3.05580664e-03, 9.96944193e-01],\n",
       "       [2.28879516e-03, 9.97711205e-01],\n",
       "       [5.66649061e-03, 9.94333509e-01]])], ['Warning: 1 Object: Problem analizing\\tMessage: Problem Statement: objective may be non-convex'], ['Reading problem formulation', 'Warning: 1 Object: Problem analizing\\tMessage: Problem Statement: objective may be non-convex', 'Asking for data information', 'Getting data', '100% of vector_offersize was read', 'Start optimization', 'Ext.iteration=0  Objective=0.754943884276E+00  Residual=0.000000000000E+00', 'Ext.iteration=10  Objective=0.754943884276E+00  Residual=0.000000000000E+00', 'Optimization is stopped', 'Solution is optimal', 'Calculating resulting outputs. Writing solution.', 'Objective: objective = 1349.27644869 [-1.861722877679E+15]', 'Solver has normally finished. Solution was saved.']])"
      ]
     },
     "execution_count": 7,
     "metadata": {},
     "output_type": "execute_result"
    }
   ],
   "source": [
    "psg_offersize_prob = psg.psg_importfromtext('./psg_text_hmm/problem_hmm_normal_offersize.txt')\n",
    "psg_offersize_prob['problem_statement'] = '\\n'.join(psg_offersize_prob['problem_statement'])\n",
    "offersize_solution=psg.psg_solver(psg_offersize_prob)\n",
    "offersize_solution.values()"
   ]
  },
  {
   "cell_type": "markdown",
   "metadata": {},
   "source": [
    "### Bid Size"
   ]
  },
  {
   "cell_type": "code",
   "execution_count": 8,
   "metadata": {},
   "outputs": [
    {
     "name": "stdout",
     "output_type": "stream",
     "text": [
      "OK. Problem Imported\n",
      "\n",
      "Running solver\n",
      "Reading problem formulation\n",
      "Warning: 1 Object: Problem analizing\tMessage: Problem Statement: objective may be non-convex\n",
      "Asking for data information\n",
      "Getting data\n",
      "100% of vector_bidsize was read\n",
      "Start optimization\n",
      "Ext.iteration=0  Objective=0.526958401537E+00  Residual=0.000000000000E+00\n",
      "Ext.iteration=10  Objective=0.526958401537E+00  Residual=0.000000000000E+00\n",
      "Optimization is stopped\n",
      "Solution is optimal\n",
      "Calculating resulting outputs. Writing solution.\n",
      "Objective: objective = -207.891640655 [-4.109504502021E+14]\n",
      "Solver has normally finished. Solution was saved.\n",
      "Problem: problem_hmm_normal, solution_status = optimal\n",
      "Timing: data_loading_time = 0.16, preprocessing_time = 18.14, solving_time = 0.66\n",
      "Variables: optimal_point = point_problem_hmm_normal\n",
      "Objective: objective = -207.891640655 [-4.109504502021E+14]\n",
      "Constraint: sum_of_probabilities_for_states = vector_sum_of_probabilities_for_states\n",
      "Function: hmm_normal(2,vector_bidsize) = -2.078916406554E+02\n",
      "OK. Solver Finished\n",
      "\n"
     ]
    },
    {
     "data": {
      "text/plain": [
       "dict_values(['problem_hmm_normal', 'optimal', ['problem_HMM_Normal, maximize', '  hmm_normal(2,vector_bidsize)', '  Solver: VAN , precision=9, stages=10'], ['Problem: problem_hmm_normal, solution_status = optimal', 'Timing: data_loading_time = 0.16, preprocessing_time = 18.14, solving_time = 0.66', 'Variables: optimal_point = point_problem_hmm_normal', 'Objective: objective = -207.891640655 [-4.109504502021E+14]', 'Constraint: sum_of_probabilities_for_states = vector_sum_of_probabilities_for_states', 'Function: hmm_normal(2,vector_bidsize) = -2.078916406554E+02'], [['p1', 'p2', 'a1_1', 'a1_2', 'a2_1', 'a2_2', 'mu1', 'si1', 'mu2', 'si2'], array([1.        , 0.        , 0.78265447, 0.21734553, 0.00639426,\n",
       "       0.99360574, 1.56456964, 0.44639881, 1.18190128, 0.23540001])], array([1., 1., 1., ..., 1., 1., 1.]), array([1., 1., 1.]), array([0.00000000e+00, 2.66453526e-15, 7.99360578e-15]), [['state1', 'state2'], array([[1.00000000e+00, 0.00000000e+00],\n",
       "       [9.43674702e-01, 5.63252979e-02],\n",
       "       [9.37086650e-01, 6.29133497e-02],\n",
       "       ...,\n",
       "       [9.99999976e-01, 2.43349271e-08],\n",
       "       [9.99592479e-01, 4.07521293e-04],\n",
       "       [7.08880771e-01, 2.91119229e-01]])], ['Warning: 1 Object: Problem analizing\\tMessage: Problem Statement: objective may be non-convex'], ['Reading problem formulation', 'Warning: 1 Object: Problem analizing\\tMessage: Problem Statement: objective may be non-convex', 'Asking for data information', 'Getting data', '100% of vector_bidsize was read', 'Start optimization', 'Ext.iteration=0  Objective=0.526958401537E+00  Residual=0.000000000000E+00', 'Ext.iteration=10  Objective=0.526958401537E+00  Residual=0.000000000000E+00', 'Optimization is stopped', 'Solution is optimal', 'Calculating resulting outputs. Writing solution.', 'Objective: objective = -207.891640655 [-4.109504502021E+14]', 'Solver has normally finished. Solution was saved.']])"
      ]
     },
     "execution_count": 8,
     "metadata": {},
     "output_type": "execute_result"
    }
   ],
   "source": [
    "psg_bidsize_prob = psg.psg_importfromtext('./psg_text_hmm/problem_hmm_normal_bidsize.txt')\n",
    "psg_bidsize_prob['problem_statement'] = '\\n'.join(psg_bidsize_prob['problem_statement'])\n",
    "bidsize_solution=psg.psg_solver(psg_bidsize_prob)\n",
    "bidsize_solution.values()"
   ]
  },
  {
   "cell_type": "markdown",
   "metadata": {},
   "source": [
    "### HMM Learn\n",
    "\n",
    "\n",
    "- Set 2 hidden components\n",
    "- Solves via the Viterbi Forward Backwards Algorithm\n",
    "- Full covariance matrix with min_covar to prevent overfitting\n",
    "- Tolerance set equivantly to PSG"
   ]
  },
  {
   "cell_type": "markdown",
   "metadata": {},
   "source": [
    "### Spread"
   ]
  },
  {
   "cell_type": "code",
   "execution_count": 9,
   "metadata": {},
   "outputs": [],
   "source": [
    "spread_model=GaussianHMM(n_components=2,algorithm='viterbi',covariance_type=\"spherical\",min_covar=1e-4, n_iter=1000,tol=1e-8)\n",
    "fitted_spread_model=spread_model.fit(spread.reshape(-1, 1))"
   ]
  },
  {
   "cell_type": "code",
   "execution_count": 10,
   "metadata": {},
   "outputs": [
    {
     "name": "stdout",
     "output_type": "stream",
     "text": [
      "Transition Matrix is [0.94331442 0.05668558 0.25864479 0.74135521]\n",
      "Mean Values are is [0.03611566 0.10653405]\n",
      "Covariance Matrix is [0.0001152  0.00816749]\n"
     ]
    }
   ],
   "source": [
    "print(f\"Transition Matrix is {fitted_spread_model.transmat_.flatten()}\")\n",
    "print(f\"Mean Values are is {fitted_spread_model.means_.flatten()}\")\n",
    "print(f\"Covariance Matrix is {fitted_spread_model.covars_.flatten()}\")"
   ]
  },
  {
   "cell_type": "markdown",
   "metadata": {},
   "source": [
    "### Book Imbalance"
   ]
  },
  {
   "cell_type": "code",
   "execution_count": 11,
   "metadata": {},
   "outputs": [],
   "source": [
    "bookimbalance_model=GaussianHMM(n_components=2,algorithm='viterbi',covariance_type=\"spherical\",min_covar=1e-4, n_iter=1000,tol=1e-8)\n",
    "fitted_bookimbalance_model=bookimbalance_model.fit(bookimbalance.reshape(-1, 1))"
   ]
  },
  {
   "cell_type": "code",
   "execution_count": 12,
   "metadata": {},
   "outputs": [
    {
     "name": "stdout",
     "output_type": "stream",
     "text": [
      "Transition Matrix is [0.86808984 0.13191016 0.11530724 0.88469276]\n",
      "Mean Values are is [0.63978626 1.01772923]\n",
      "Covariance Matrix is [0.04708052 0.09439633]\n"
     ]
    }
   ],
   "source": [
    "print(f\"Transition Matrix is {fitted_bookimbalance_model.transmat_.flatten()}\")\n",
    "print(f\"Mean Values are is {fitted_bookimbalance_model.means_.flatten()}\")\n",
    "print(f\"Covariance Matrix is {fitted_bookimbalance_model.covars_.flatten()}\")"
   ]
  },
  {
   "cell_type": "markdown",
   "metadata": {},
   "source": [
    "### Bid Size"
   ]
  },
  {
   "cell_type": "code",
   "execution_count": 13,
   "metadata": {},
   "outputs": [],
   "source": [
    "bidsize_model=GaussianHMM(n_components=2,algorithm='viterbi',covariance_type=\"spherical\",min_covar=1e-4, n_iter=1000,tol=1e-8)\n",
    "fitted_bidsize_model=bidsize_model.fit(bidsize.reshape(-1, 1))"
   ]
  },
  {
   "cell_type": "code",
   "execution_count": 14,
   "metadata": {},
   "outputs": [
    {
     "name": "stdout",
     "output_type": "stream",
     "text": [
      "Transition Matrix is [0.95984676 0.04015324 0.08757776 0.91242224]\n",
      "Mean Values are is [1.25933958 0.98327013]\n",
      "Covariance Matrix is [0.07917477 0.04151069]\n"
     ]
    }
   ],
   "source": [
    "print(f\"Transition Matrix is {fitted_bidsize_model.transmat_.flatten()}\")\n",
    "print(f\"Mean Values are is {fitted_bidsize_model.means_.flatten()}\")\n",
    "print(f\"Covariance Matrix is {fitted_bidsize_model.covars_.flatten()}\")"
   ]
  },
  {
   "cell_type": "markdown",
   "metadata": {},
   "source": [
    "### Offer Size"
   ]
  },
  {
   "cell_type": "code",
   "execution_count": 15,
   "metadata": {},
   "outputs": [],
   "source": [
    "offersize_model=GaussianHMM(n_components=2,algorithm='viterbi',covariance_type=\"spherical\",min_covar=1e-4, n_iter=1000,tol=1e-8)\n",
    "fitted_offersize_model=offersize_model.fit(offersize.reshape(-1, 1))"
   ]
  },
  {
   "cell_type": "code",
   "execution_count": 16,
   "metadata": {},
   "outputs": [
    {
     "name": "stdout",
     "output_type": "stream",
     "text": [
      "Transition Matrix is [0.92974086 0.07025914 0.12389664 0.87610336]\n",
      "Mean Values are is [1.29632304 1.05429898]\n",
      "Covariance Matrix is [0.08579449 0.05060665]\n"
     ]
    }
   ],
   "source": [
    "print(f\"Transition Matrix is {fitted_offersize_model.transmat_.flatten()}\")\n",
    "print(f\"Mean Values are is {fitted_offersize_model.means_.flatten()}\")\n",
    "print(f\"Covariance Matrix is {fitted_offersize_model.covars_.flatten()}\")"
   ]
  },
  {
   "cell_type": "markdown",
   "metadata": {},
   "source": [
    "### Stationary Distributions\n",
    "\n",
    "Limiting marginal distributions"
   ]
  },
  {
   "cell_type": "code",
   "execution_count": 17,
   "metadata": {},
   "outputs": [
    {
     "name": "stdout",
     "output_type": "stream",
     "text": [
      "Stationary Distribution for Spread HMM is [0.82023432 0.17976568]\n",
      "Stationary Distribution for Book Imbalance HMM is [0.46642041 0.53357959]\n",
      "Stationary Distribution for Bidsize HMM is [0.68564219 0.31435781]\n",
      "Stationary Distribution for Offersize HMM is [0.63813005 0.36186995]\n"
     ]
    }
   ],
   "source": [
    "spread_stationary=fitted_spread_model.get_stationary_distribution()\n",
    "bookimbalance_stationary=fitted_bookimbalance_model.get_stationary_distribution()\n",
    "bidsize_stationary=fitted_bidsize_model.get_stationary_distribution()\n",
    "offersize_stationary=fitted_offersize_model.get_stationary_distribution()\n",
    "\n",
    "print(f\"Stationary Distribution for Spread HMM is {spread_stationary}\")\n",
    "print(f\"Stationary Distribution for Book Imbalance HMM is {bookimbalance_stationary}\")\n",
    "print(f\"Stationary Distribution for Bidsize HMM is {bidsize_stationary}\")\n",
    "print(f\"Stationary Distribution for Offersize HMM is {offersize_stationary}\")"
   ]
  }
 ],
 "metadata": {
  "kernelspec": {
   "display_name": "Python 3.8.0 ('hmm')",
   "language": "python",
   "name": "python3"
  },
  "language_info": {
   "codemirror_mode": {
    "name": "ipython",
    "version": 3
   },
   "file_extension": ".py",
   "mimetype": "text/x-python",
   "name": "python",
   "nbconvert_exporter": "python",
   "pygments_lexer": "ipython3",
   "version": "3.8.0"
  },
  "orig_nbformat": 4,
  "vscode": {
   "interpreter": {
    "hash": "80cc58d642badbeb27aa4dea55477ea0db095f88739fbd6a40ddef87b59ea8ce"
   }
  }
 },
 "nbformat": 4,
 "nbformat_minor": 2
}
